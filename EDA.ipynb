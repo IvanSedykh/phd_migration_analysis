{
 "cells": [
  {
   "cell_type": "code",
   "execution_count": 4,
   "metadata": {},
   "outputs": [],
   "source": [
    "import pandas as pd\n",
    "import numpy as np\n",
    "from matplotlib import pyplot as plt"
   ]
  },
  {
   "cell_type": "code",
   "execution_count": 5,
   "metadata": {},
   "outputs": [],
   "source": [
    "data = pd.read_csv('stmodel2_kw_combinations_frequency.txt', sep='\\t' )"
   ]
  },
  {
   "cell_type": "code",
   "execution_count": 6,
   "metadata": {},
   "outputs": [
    {
     "output_type": "execute_result",
     "data": {
      "text/plain": "   year        kw_combined  num_kw fr\n0  1989  kw_10033_kw_11367          1\n1  1989  kw_10033_kw_12359          1\n2  1989   kw_10033_kw_5763          1\n3  1989   kw_10033_kw_7964          1\n4  1989   kw_10033_kw_9512          1",
      "text/html": "<div>\n<style scoped>\n    .dataframe tbody tr th:only-of-type {\n        vertical-align: middle;\n    }\n\n    .dataframe tbody tr th {\n        vertical-align: top;\n    }\n\n    .dataframe thead th {\n        text-align: right;\n    }\n</style>\n<table border=\"1\" class=\"dataframe\">\n  <thead>\n    <tr style=\"text-align: right;\">\n      <th></th>\n      <th>year</th>\n      <th>kw_combined</th>\n      <th>num_kw fr</th>\n    </tr>\n  </thead>\n  <tbody>\n    <tr>\n      <th>0</th>\n      <td>1989</td>\n      <td>kw_10033_kw_11367</td>\n      <td>1</td>\n    </tr>\n    <tr>\n      <th>1</th>\n      <td>1989</td>\n      <td>kw_10033_kw_12359</td>\n      <td>1</td>\n    </tr>\n    <tr>\n      <th>2</th>\n      <td>1989</td>\n      <td>kw_10033_kw_5763</td>\n      <td>1</td>\n    </tr>\n    <tr>\n      <th>3</th>\n      <td>1989</td>\n      <td>kw_10033_kw_7964</td>\n      <td>1</td>\n    </tr>\n    <tr>\n      <th>4</th>\n      <td>1989</td>\n      <td>kw_10033_kw_9512</td>\n      <td>1</td>\n    </tr>\n  </tbody>\n</table>\n</div>"
     },
     "metadata": {},
     "execution_count": 6
    }
   ],
   "source": [
    "data.head()"
   ]
  },
  {
   "cell_type": "code",
   "execution_count": 7,
   "metadata": {},
   "outputs": [],
   "source": [
    "data = data['num_kw fr']"
   ]
  },
  {
   "cell_type": "code",
   "execution_count": 8,
   "metadata": {},
   "outputs": [
    {
     "output_type": "execute_result",
     "data": {
      "text/plain": "count    1.513518e+06\nmean     1.492252e+00\nstd      3.292360e+00\nmin      1.000000e+00\n25%      1.000000e+00\n50%      1.000000e+00\n75%      1.000000e+00\nmax      5.200000e+02\nName: num_kw fr, dtype: float64"
     },
     "metadata": {},
     "execution_count": 8
    }
   ],
   "source": [
    "data.describe()"
   ]
  },
  {
   "cell_type": "code",
   "execution_count": 9,
   "metadata": {},
   "outputs": [],
   "source": [
    "n = data.shape[0]"
   ]
  },
  {
   "cell_type": "code",
   "execution_count": 10,
   "metadata": {},
   "outputs": [
    {
     "output_type": "execute_result",
     "data": {
      "text/plain": "1      1251294\n2       148202\n3        47248\n4        22015\n5        12247\n        ...   \n474          1\n478          1\n481          1\n484          1\n520          1\nName: num_kw fr, Length: 222, dtype: int64"
     },
     "metadata": {},
     "execution_count": 10
    }
   ],
   "source": [
    "f_obs = data.value_counts().sort_index()\n",
    "f_obs"
   ]
  },
  {
   "cell_type": "markdown",
   "metadata": {},
   "source": [
    "### Пуассоновское распределение\n",
    "Попробуем найти параметры распределения Пуассона с помощью метода максимума правдоподобия.\n",
    "$$\n",
    "\\lambda^* = \\frac{\\sum_{i=1}^n x_i}{n}\n",
    "$$"
   ]
  },
  {
   "cell_type": "code",
   "execution_count": 2,
   "metadata": {},
   "outputs": [],
   "source": [
    "from scipy.stats import *"
   ]
  },
  {
   "cell_type": "code",
   "execution_count": 11,
   "metadata": {},
   "outputs": [
    {
     "output_type": "execute_result",
     "data": {
      "text/plain": "1.4922518265392284"
     },
     "metadata": {},
     "execution_count": 11
    }
   ],
   "source": [
    "lambd = np.mean(data)\n",
    "lambd"
   ]
  },
  {
   "cell_type": "code",
   "execution_count": 21,
   "metadata": {},
   "outputs": [
    {
     "output_type": "execute_result",
     "data": {
      "text/plain": "1      507870.486327\n2      378935.330433\n3      188488.979660\n4       70318.256045\n5       20986.509204\n           ...      \n474         0.000000\n478         0.000000\n481         0.000000\n484         0.000000\n520         0.000000\nName: num, Length: 222, dtype: float64"
     },
     "metadata": {},
     "execution_count": 21
    }
   ],
   "source": [
    "f_exp = pd.Series(\n",
    "                    data = n * poisson(lambd).pmf(f_obs.index.values),\n",
    "                    index = f_obs.index,\n",
    "                    name='num'\n",
    "                    ) \n",
    "f_exp"
   ]
  },
  {
   "cell_type": "code",
   "execution_count": 23,
   "metadata": {},
   "outputs": [
    {
     "output_type": "execute_result",
     "data": {
      "text/plain": "Power_divergenceResult(statistic=inf, pvalue=0.0)"
     },
     "metadata": {},
     "execution_count": 23
    }
   ],
   "source": [
    "chisquare(f_obs=f_obs.values, f_exp=f_exp.values)"
   ]
  },
  {
   "cell_type": "code",
   "execution_count": 26,
   "metadata": {},
   "outputs": [
    {
     "output_type": "execute_result",
     "data": {
      "text/plain": "inf"
     },
     "metadata": {},
     "execution_count": 26
    }
   ],
   "source": [
    "np.sum((f_obs.values-f_exp.values)**2/f_exp.values)"
   ]
  },
  {
   "cell_type": "markdown",
   "metadata": {},
   "source": [
    "### Геометрическое распределение\n",
    "$$\n",
    "p^* = \\frac{1}{\\frac 1 n \\sum_{i=1}^n x_i}\n",
    "$$"
   ]
  },
  {
   "cell_type": "code",
   "execution_count": 29,
   "metadata": {},
   "outputs": [
    {
     "output_type": "execute_result",
     "data": {
      "text/plain": "0.6701281795842465"
     },
     "metadata": {},
     "execution_count": 29
    }
   ],
   "source": [
    "p = 1/np.mean(data)\n",
    "p"
   ]
  },
  {
   "cell_type": "code",
   "execution_count": 36,
   "metadata": {},
   "outputs": [
    {
     "output_type": "execute_result",
     "data": {
      "text/plain": "1       1.014251e+06\n2       3.345728e+05\n3       1.103662e+05\n4       3.640668e+04\n5       1.200954e+04\n           ...      \n474    1.525574e-222\n478    1.806401e-224\n481    6.484100e-226\n484    2.327477e-227\n520    1.064911e-244\nName: num, Length: 222, dtype: float64"
     },
     "metadata": {},
     "execution_count": 36
    }
   ],
   "source": [
    "f_exp = pd.Series(\n",
    "                    data = n * geom(p).pmf(f_obs.index.values),\n",
    "                    index = f_obs.index,\n",
    "                    name='num'\n",
    "                    ) \n",
    "f_exp"
   ]
  },
  {
   "cell_type": "code",
   "execution_count": 37,
   "metadata": {},
   "outputs": [
    {
     "output_type": "execute_result",
     "data": {
      "text/plain": "Power_divergenceResult(statistic=9.390459155679656e+243, pvalue=0.0)"
     },
     "metadata": {},
     "execution_count": 37
    }
   ],
   "source": [
    "chisquare(f_obs=f_obs.values, f_exp=f_exp.values)"
   ]
  },
  {
   "cell_type": "markdown",
   "metadata": {},
   "source": [
    "### Показательное распределение\n",
    "$$\n",
    "f(k) = \\lambda *e^{-\\lambda k} \\\\\n",
    "\\lambda^*= \\frac{1}{\\frac 1 n \\sum_{i=1}^n x_i}\n",
    "$$"
   ]
  },
  {
   "cell_type": "code",
   "execution_count": 39,
   "metadata": {},
   "outputs": [],
   "source": [
    "lambd = 1/np.mean(data)"
   ]
  },
  {
   "cell_type": "code",
   "execution_count": 40,
   "metadata": {},
   "outputs": [],
   "source": [
    "def exp(k):\n",
    "    return lambd * np.exp(-lambd * k)\n",
    "exp = np.vectorize(exp)"
   ]
  },
  {
   "cell_type": "code",
   "execution_count": 49,
   "metadata": {},
   "outputs": [
    {
     "output_type": "execute_result",
     "data": {
      "text/plain": "1       5.189344e+05\n2       2.655092e+05\n3       1.358459e+05\n4       6.950461e+04\n5       3.556154e+04\n           ...      \n474    1.138983e-132\n478    7.805227e-134\n481    1.045410e-134\n484    1.400192e-135\n520    4.666602e-146\nName: num, Length: 222, dtype: float64"
     },
     "metadata": {},
     "execution_count": 49
    }
   ],
   "source": [
    "f_exp = pd.Series(\n",
    "                    data = n * exp(f_obs.index.values),\n",
    "                    index = f_obs.index,\n",
    "                    name='num'\n",
    "                    ) \n",
    "f_exp"
   ]
  },
  {
   "cell_type": "code",
   "execution_count": 50,
   "metadata": {},
   "outputs": [
    {
     "output_type": "execute_result",
     "data": {
      "text/plain": "Power_divergenceResult(statistic=2.1428867560818265e+145, pvalue=0.0)"
     },
     "metadata": {},
     "execution_count": 50
    }
   ],
   "source": [
    "chisquare(f_obs=f_obs.values, f_exp=f_exp.values)"
   ]
  },
  {
   "cell_type": "markdown",
   "metadata": {},
   "source": [
    "### "
   ]
  },
  {
   "cell_type": "markdown",
   "metadata": {},
   "source": [
    "### Гамма распредление"
   ]
  },
  {
   "cell_type": "code",
   "execution_count": 52,
   "metadata": {},
   "outputs": [
    {
     "output_type": "execute_result",
     "data": {
      "text/plain": "(0.0017337609904350417, 0.9999999999999998, 1.5633042912523676)"
     },
     "metadata": {},
     "execution_count": 52
    }
   ],
   "source": [
    "gamma.fit(data)"
   ]
  },
  {
   "cell_type": "code",
   "execution_count": 75,
   "metadata": {},
   "outputs": [
    {
     "output_type": "execute_result",
     "data": {
      "text/plain": "0.00027965711638144874"
     },
     "metadata": {},
     "execution_count": 75
    }
   ],
   "source": [
    "gamma(0.001,1,1.56).cdf(3)-gamma(0.001,1,1.56).cdf(2)"
   ]
  },
  {
   "cell_type": "code",
   "execution_count": 80,
   "metadata": {},
   "outputs": [
    {
     "output_type": "execute_result",
     "data": {
      "text/plain": "0.09791888831186679"
     },
     "metadata": {},
     "execution_count": 80
    }
   ],
   "source": [
    "f_obs[2]/np.sum(f_obs.values)"
   ]
  },
  {
   "cell_type": "code",
   "execution_count": 78,
   "metadata": {},
   "outputs": [
    {
     "output_type": "execute_result",
     "data": {
      "text/plain": "1513518"
     },
     "metadata": {},
     "execution_count": 78
    }
   ],
   "source": [
    "np.sum(f_obs.values)"
   ]
  },
  {
   "cell_type": "code",
   "execution_count": null,
   "metadata": {},
   "outputs": [],
   "source": []
  },
  {
   "cell_type": "markdown",
   "metadata": {},
   "source": [
    "## Fitter  \n",
    "вау, кто-то уже написал удобную либу, которая проходится по всем распределениям из scipy и выбирает лучшее. То что мне нужно."
   ]
  },
  {
   "cell_type": "code",
   "execution_count": 81,
   "metadata": {},
   "outputs": [],
   "source": [
    "from fitter import Fitter"
   ]
  },
  {
   "cell_type": "code",
   "execution_count": 85,
   "metadata": {},
   "outputs": [
    {
     "output_type": "stream",
     "name": "stdout",
     "text": "Fitted alpha distribution with error=0.03591958901882792)\nFitted anglit distribution with error=0.03546928998478619)\nFitted arcsine distribution with error=0.03307982985063789)\nSKIPPED argus distribution (taking more than 30 seconds)\nSKIPPED beta distribution (taking more than 30 seconds)\nSKIPPED betaprime distribution (taking more than 30 seconds)\nFitted bradford distribution with error=0.034893510696611126)\nSKIPPED burr distribution (taking more than 30 seconds)\nSKIPPED burr12 distribution (taking more than 30 seconds)\nFitted cauchy distribution with error=0.03591958901882792)\nFitted chi distribution with error=0.01532645845249166)\nFitted chi2 distribution with error=0.033549369701365524)\nFitted cosine distribution with error=0.035297214209074425)\nSKIPPED crystalball distribution (taking more than 30 seconds)\nFitted dgamma distribution with error=0.02735979322167614)\nFitted dweibull distribution with error=0.0353281781334112)\nFitted erlang distribution with error=0.029702966132127216)\nFitted expon distribution with error=0.032074587331328085)\nSKIPPED exponnorm distribution (taking more than 30 seconds)\nSKIPPED exponpow distribution (taking more than 30 seconds)\nSKIPPED exponweib distribution (taking more than 30 seconds)\nSKIPPED f distribution (taking more than 30 seconds)\nSKIPPED fatiguelife distribution (taking more than 30 seconds)\nSKIPPED fisk distribution (taking more than 30 seconds)\nSKIPPED foldcauchy distribution (taking more than 30 seconds)\nFitted foldnorm distribution with error=0.01702348068958896)\nSKIPPED frechet_l distribution (taking more than 30 seconds)\nSKIPPED frechet_r distribution (taking more than 30 seconds)\nFitted gamma distribution with error=0.03587135645496652)\nSKIPPED gausshyper distribution (taking more than 30 seconds)\nSKIPPED genexpon distribution (taking more than 30 seconds)\nSKIPPED genextreme distribution (taking more than 30 seconds)\nSKIPPED gengamma distribution (taking more than 30 seconds)\nSKIPPED genhalflogistic distribution (taking more than 30 seconds)\nSKIPPED geninvgauss distribution (taking more than 30 seconds)\nSKIPPED genlogistic distribution (taking more than 30 seconds)\nSKIPPED gennorm distribution (taking more than 30 seconds)\nSKIPPED genpareto distribution (taking more than 30 seconds)\nFitted gilbrat distribution with error=0.03591950716202627)\nFitted gompertz distribution with error=0.03732665122496546)\nFitted gumbel_l distribution with error=0.03347397848214738)\nFitted gumbel_r distribution with error=0.03195986959547083)\nFitted halfcauchy distribution with error=0.035919589018815715)\nFitted halfgennorm distribution with error=0.0359188968956401)\nFitted halflogistic distribution with error=0.029753010837852305)\nFitted halfnorm distribution with error=0.00034562215673398155)\nFitted hypsecant distribution with error=0.025350414826977433)\nFitted invgamma distribution with error=0.03591958901882792)\nFitted invgauss distribution with error=0.03591953775554786)\nSKIPPED invweibull distribution (taking more than 30 seconds)\nSKIPPED johnsonsb distribution (taking more than 30 seconds)\nSKIPPED johnsonsu distribution (taking more than 30 seconds)\nSKIPPED kappa3 distribution (taking more than 30 seconds)\nSKIPPED kappa4 distribution (taking more than 30 seconds)\nSKIPPED ksone distribution (taking more than 30 seconds)\nSKIPPED kstwobign distribution (taking more than 30 seconds)\nSKIPPED laplace distribution (taking more than 30 seconds)\nSKIPPED levy distribution (taking more than 30 seconds)\nSKIPPED levy_l distribution (taking more than 30 seconds)\nSKIPPED levy_stable distribution (taking more than 30 seconds)\nSKIPPED loggamma distribution (taking more than 30 seconds)\nFitted logistic distribution with error=0.031831421187179666)\nSKIPPED loglaplace distribution (taking more than 30 seconds)\nSKIPPED lognorm distribution (taking more than 30 seconds)\nSKIPPED loguniform distribution (taking more than 30 seconds)\nSKIPPED lomax distribution (taking more than 30 seconds)\nSKIPPED maxwell distribution (taking more than 30 seconds)\nSKIPPED mielke distribution (taking more than 30 seconds)\nSKIPPED moyal distribution (taking more than 30 seconds)\nSKIPPED nakagami distribution (taking more than 30 seconds)\nSKIPPED ncf distribution (taking more than 30 seconds)\nSKIPPED nct distribution (taking more than 30 seconds)\nSKIPPED ncx2 distribution (taking more than 30 seconds)\nFitted norm distribution with error=0.00829846431333132)\nSKIPPED norminvgauss distribution (taking more than 30 seconds)\nSKIPPED pareto distribution (taking more than 30 seconds)\nSKIPPED pearson3 distribution (taking more than 30 seconds)\nSKIPPED powerlaw distribution (taking more than 30 seconds)\nSKIPPED powerlognorm distribution (taking more than 30 seconds)\nSKIPPED powernorm distribution (taking more than 30 seconds)\nFitted rayleigh distribution with error=0.004507504937240987)\nSKIPPED rdist distribution (taking more than 30 seconds)\nSKIPPED recipinvgauss distribution (taking more than 30 seconds)\nSKIPPED reciprocal distribution (taking more than 30 seconds)\nSKIPPED rice distribution (taking more than 30 seconds)\nSKIPPED rv_continuous distribution (taking more than 30 seconds)\nSKIPPED rv_histogram distribution (taking more than 30 seconds)\nSKIPPED semicircular distribution (taking more than 30 seconds)\nSKIPPED skewnorm distribution (taking more than 30 seconds)\nSKIPPED t distribution (taking more than 30 seconds)\nSKIPPED trapz distribution (taking more than 30 seconds)\nSKIPPED triang distribution (taking more than 30 seconds)\nSKIPPED truncexpon distribution (taking more than 30 seconds)\nSKIPPED truncnorm distribution (taking more than 30 seconds)\nSKIPPED tukeylambda distribution (taking more than 30 seconds)\nFitted uniform distribution with error=0.035548340025840806)\nSKIPPED vonmises distribution (taking more than 30 seconds)\nSKIPPED vonmises_line distribution (taking more than 30 seconds)\nSKIPPED wald distribution (taking more than 30 seconds)\nSKIPPED weibull_max distribution (taking more than 30 seconds)\nSKIPPED weibull_min distribution (taking more than 30 seconds)\nFitted wrapcauchy distribution with error=nan)\n"
    },
    {
     "output_type": "execute_result",
     "data": {
      "text/plain": "          sumsquare_error           aic           bic    kl_div\nhalfnorm         0.000346  8.104840e+05 -3.360024e+07  0.104809\nrayleigh         0.004508  7.705704e+05 -2.971329e+07  0.043922\nnorm             0.008298  8.263726e+05 -2.878955e+07  0.137154\nchi              0.015326  3.074238e+05 -2.786098e+07  0.277146\nfoldnorm         0.017023           inf -2.770204e+07       inf",
      "text/html": "<div>\n<style scoped>\n    .dataframe tbody tr th:only-of-type {\n        vertical-align: middle;\n    }\n\n    .dataframe tbody tr th {\n        vertical-align: top;\n    }\n\n    .dataframe thead th {\n        text-align: right;\n    }\n</style>\n<table border=\"1\" class=\"dataframe\">\n  <thead>\n    <tr style=\"text-align: right;\">\n      <th></th>\n      <th>sumsquare_error</th>\n      <th>aic</th>\n      <th>bic</th>\n      <th>kl_div</th>\n    </tr>\n  </thead>\n  <tbody>\n    <tr>\n      <th>halfnorm</th>\n      <td>0.000346</td>\n      <td>8.104840e+05</td>\n      <td>-3.360024e+07</td>\n      <td>0.104809</td>\n    </tr>\n    <tr>\n      <th>rayleigh</th>\n      <td>0.004508</td>\n      <td>7.705704e+05</td>\n      <td>-2.971329e+07</td>\n      <td>0.043922</td>\n    </tr>\n    <tr>\n      <th>norm</th>\n      <td>0.008298</td>\n      <td>8.263726e+05</td>\n      <td>-2.878955e+07</td>\n      <td>0.137154</td>\n    </tr>\n    <tr>\n      <th>chi</th>\n      <td>0.015326</td>\n      <td>3.074238e+05</td>\n      <td>-2.786098e+07</td>\n      <td>0.277146</td>\n    </tr>\n    <tr>\n      <th>foldnorm</th>\n      <td>0.017023</td>\n      <td>inf</td>\n      <td>-2.770204e+07</td>\n      <td>inf</td>\n    </tr>\n  </tbody>\n</table>\n</div>"
     },
     "metadata": {},
     "execution_count": 85
    },
    {
     "output_type": "display_data",
     "data": {
      "text/plain": "<Figure size 432x288 with 1 Axes>",
      "image/svg+xml": "<?xml version=\"1.0\" encoding=\"utf-8\" standalone=\"no\"?>\n<!DOCTYPE svg PUBLIC \"-//W3C//DTD SVG 1.1//EN\"\n  \"http://www.w3.org/Graphics/SVG/1.1/DTD/svg11.dtd\">\n<!-- Created with matplotlib (https://matplotlib.org/) -->\n<svg height=\"248.518125pt\" version=\"1.1\" viewBox=\"0 0 384.828125 248.518125\" width=\"384.828125pt\" xmlns=\"http://www.w3.org/2000/svg\" xmlns:xlink=\"http://www.w3.org/1999/xlink\">\n <defs>\n  <style type=\"text/css\">\n*{stroke-linecap:butt;stroke-linejoin:round;}\n  </style>\n </defs>\n <g id=\"figure_1\">\n  <g id=\"patch_1\">\n   <path d=\"M 0 248.518125 \nL 384.828125 248.518125 \nL 384.828125 0 \nL 0 0 \nz\n\"/>\n  </g>\n  <g id=\"axes_1\">\n   <g id=\"patch_2\">\n    <path d=\"M 42.828125 224.64 \nL 377.628125 224.64 \nL 377.628125 7.2 \nL 42.828125 7.2 \nz\n\"/>\n   </g>\n   <g id=\"patch_3\">\n    <path clip-path=\"url(#p365fd58856)\" d=\"M 58.046307 224.64 \nL 61.089943 224.64 \nL 61.089943 17.554286 \nL 58.046307 17.554286 \nz\n\" style=\"fill:#8dd3c7;\"/>\n   </g>\n   <g id=\"patch_4\">\n    <path clip-path=\"url(#p365fd58856)\" d=\"M 61.089943 224.64 \nL 64.13358 224.64 \nL 64.13358 222.527633 \nL 61.089943 222.527633 \nz\n\" style=\"fill:#8dd3c7;\"/>\n   </g>\n   <g id=\"patch_5\">\n    <path clip-path=\"url(#p365fd58856)\" d=\"M 64.13358 224.64 \nL 67.177216 224.64 \nL 67.177216 224.016514 \nL 64.13358 224.016514 \nz\n\" style=\"fill:#8dd3c7;\"/>\n   </g>\n   <g id=\"patch_6\">\n    <path clip-path=\"url(#p365fd58856)\" d=\"M 67.177216 224.64 \nL 70.220852 224.64 \nL 70.220852 224.36846 \nL 67.177216 224.36846 \nz\n\" style=\"fill:#8dd3c7;\"/>\n   </g>\n   <g id=\"patch_7\">\n    <path clip-path=\"url(#p365fd58856)\" d=\"M 70.220852 224.64 \nL 73.264489 224.64 \nL 73.264489 224.501726 \nL 70.220852 224.501726 \nz\n\" style=\"fill:#8dd3c7;\"/>\n   </g>\n   <g id=\"patch_8\">\n    <path clip-path=\"url(#p365fd58856)\" d=\"M 73.264489 224.64 \nL 76.308125 224.64 \nL 76.308125 224.537894 \nL 73.264489 224.537894 \nz\n\" style=\"fill:#8dd3c7;\"/>\n   </g>\n   <g id=\"patch_9\">\n    <path clip-path=\"url(#p365fd58856)\" d=\"M 76.308125 224.64 \nL 79.351761 224.64 \nL 79.351761 224.592703 \nL 76.308125 224.592703 \nz\n\" style=\"fill:#8dd3c7;\"/>\n   </g>\n   <g id=\"patch_10\">\n    <path clip-path=\"url(#p365fd58856)\" d=\"M 79.351761 224.64 \nL 82.395398 224.64 \nL 82.395398 224.612874 \nL 79.351761 224.612874 \nz\n\" style=\"fill:#8dd3c7;\"/>\n   </g>\n   <g id=\"patch_11\">\n    <path clip-path=\"url(#p365fd58856)\" d=\"M 82.395398 224.64 \nL 85.439034 224.64 \nL 85.439034 224.611483 \nL 82.395398 224.611483 \nz\n\" style=\"fill:#8dd3c7;\"/>\n   </g>\n   <g id=\"patch_12\">\n    <path clip-path=\"url(#p365fd58856)\" d=\"M 85.439034 224.64 \nL 88.48267 224.64 \nL 88.48267 224.617882 \nL 85.439034 224.617882 \nz\n\" style=\"fill:#8dd3c7;\"/>\n   </g>\n   <g id=\"patch_13\">\n    <path clip-path=\"url(#p365fd58856)\" d=\"M 88.48267 224.64 \nL 91.526307 224.64 \nL 91.526307 224.623029 \nL 88.48267 224.623029 \nz\n\" style=\"fill:#8dd3c7;\"/>\n   </g>\n   <g id=\"patch_14\">\n    <path clip-path=\"url(#p365fd58856)\" d=\"M 91.526307 224.64 \nL 94.569943 224.64 \nL 94.569943 224.630819 \nL 91.526307 224.630819 \nz\n\" style=\"fill:#8dd3c7;\"/>\n   </g>\n   <g id=\"patch_15\">\n    <path clip-path=\"url(#p365fd58856)\" d=\"M 94.569943 224.64 \nL 97.61358 224.64 \nL 97.61358 224.63068 \nL 94.569943 224.63068 \nz\n\" style=\"fill:#8dd3c7;\"/>\n   </g>\n   <g id=\"patch_16\">\n    <path clip-path=\"url(#p365fd58856)\" d=\"M 97.61358 224.64 \nL 100.657216 224.64 \nL 100.657216 224.633601 \nL 97.61358 224.633601 \nz\n\" style=\"fill:#8dd3c7;\"/>\n   </g>\n   <g id=\"patch_17\">\n    <path clip-path=\"url(#p365fd58856)\" d=\"M 100.657216 224.64 \nL 103.700852 224.64 \nL 103.700852 224.634297 \nL 100.657216 224.634297 \nz\n\" style=\"fill:#8dd3c7;\"/>\n   </g>\n   <g id=\"patch_18\">\n    <path clip-path=\"url(#p365fd58856)\" d=\"M 103.700852 224.64 \nL 106.744489 224.64 \nL 106.744489 224.635409 \nL 103.700852 224.635409 \nz\n\" style=\"fill:#8dd3c7;\"/>\n   </g>\n   <g id=\"patch_19\">\n    <path clip-path=\"url(#p365fd58856)\" d=\"M 106.744489 224.64 \nL 109.788125 224.64 \nL 109.788125 224.637218 \nL 106.744489 224.637218 \nz\n\" style=\"fill:#8dd3c7;\"/>\n   </g>\n   <g id=\"patch_20\">\n    <path clip-path=\"url(#p365fd58856)\" d=\"M 109.788125 224.64 \nL 112.831761 224.64 \nL 112.831761 224.63847 \nL 109.788125 224.63847 \nz\n\" style=\"fill:#8dd3c7;\"/>\n   </g>\n   <g id=\"patch_21\">\n    <path clip-path=\"url(#p365fd58856)\" d=\"M 112.831761 224.64 \nL 115.875398 224.64 \nL 115.875398 224.638748 \nL 112.831761 224.638748 \nz\n\" style=\"fill:#8dd3c7;\"/>\n   </g>\n   <g id=\"patch_22\">\n    <path clip-path=\"url(#p365fd58856)\" d=\"M 115.875398 224.64 \nL 118.919034 224.64 \nL 118.919034 224.637357 \nL 115.875398 224.637357 \nz\n\" style=\"fill:#8dd3c7;\"/>\n   </g>\n   <g id=\"patch_23\">\n    <path clip-path=\"url(#p365fd58856)\" d=\"M 118.919034 224.64 \nL 121.96267 224.64 \nL 121.96267 224.638331 \nL 118.919034 224.638331 \nz\n\" style=\"fill:#8dd3c7;\"/>\n   </g>\n   <g id=\"patch_24\">\n    <path clip-path=\"url(#p365fd58856)\" d=\"M 121.96267 224.64 \nL 125.006307 224.64 \nL 125.006307 224.63847 \nL 121.96267 224.63847 \nz\n\" style=\"fill:#8dd3c7;\"/>\n   </g>\n   <g id=\"patch_25\">\n    <path clip-path=\"url(#p365fd58856)\" d=\"M 125.006307 224.64 \nL 128.049943 224.64 \nL 128.049943 224.638052 \nL 125.006307 224.638052 \nz\n\" style=\"fill:#8dd3c7;\"/>\n   </g>\n   <g id=\"patch_26\">\n    <path clip-path=\"url(#p365fd58856)\" d=\"M 128.049943 224.64 \nL 131.09358 224.64 \nL 131.09358 224.639026 \nL 128.049943 224.639026 \nz\n\" style=\"fill:#8dd3c7;\"/>\n   </g>\n   <g id=\"patch_27\">\n    <path clip-path=\"url(#p365fd58856)\" d=\"M 131.09358 224.64 \nL 134.137216 224.64 \nL 134.137216 224.639165 \nL 131.09358 224.639165 \nz\n\" style=\"fill:#8dd3c7;\"/>\n   </g>\n   <g id=\"patch_28\">\n    <path clip-path=\"url(#p365fd58856)\" d=\"M 134.137216 224.64 \nL 137.180852 224.64 \nL 137.180852 224.639444 \nL 134.137216 224.639444 \nz\n\" style=\"fill:#8dd3c7;\"/>\n   </g>\n   <g id=\"patch_29\">\n    <path clip-path=\"url(#p365fd58856)\" d=\"M 137.180852 224.64 \nL 140.224489 224.64 \nL 140.224489 224.639026 \nL 137.180852 224.639026 \nz\n\" style=\"fill:#8dd3c7;\"/>\n   </g>\n   <g id=\"patch_30\">\n    <path clip-path=\"url(#p365fd58856)\" d=\"M 140.224489 224.64 \nL 143.268125 224.64 \nL 143.268125 224.639304 \nL 140.224489 224.639304 \nz\n\" style=\"fill:#8dd3c7;\"/>\n   </g>\n   <g id=\"patch_31\">\n    <path clip-path=\"url(#p365fd58856)\" d=\"M 143.268125 224.64 \nL 146.311761 224.64 \nL 146.311761 224.639444 \nL 143.268125 224.639444 \nz\n\" style=\"fill:#8dd3c7;\"/>\n   </g>\n   <g id=\"patch_32\">\n    <path clip-path=\"url(#p365fd58856)\" d=\"M 146.311761 224.64 \nL 149.355398 224.64 \nL 149.355398 224.639861 \nL 146.311761 224.639861 \nz\n\" style=\"fill:#8dd3c7;\"/>\n   </g>\n   <g id=\"patch_33\">\n    <path clip-path=\"url(#p365fd58856)\" d=\"M 149.355398 224.64 \nL 152.399034 224.64 \nL 152.399034 224.639444 \nL 149.355398 224.639444 \nz\n\" style=\"fill:#8dd3c7;\"/>\n   </g>\n   <g id=\"patch_34\">\n    <path clip-path=\"url(#p365fd58856)\" d=\"M 152.399034 224.64 \nL 155.44267 224.64 \nL 155.44267 224.639304 \nL 152.399034 224.639304 \nz\n\" style=\"fill:#8dd3c7;\"/>\n   </g>\n   <g id=\"patch_35\">\n    <path clip-path=\"url(#p365fd58856)\" d=\"M 155.44267 224.64 \nL 158.486307 224.64 \nL 158.486307 224.639583 \nL 155.44267 224.639583 \nz\n\" style=\"fill:#8dd3c7;\"/>\n   </g>\n   <g id=\"patch_36\">\n    <path clip-path=\"url(#p365fd58856)\" d=\"M 158.486307 224.64 \nL 161.529943 224.64 \nL 161.529943 224.638887 \nL 158.486307 224.638887 \nz\n\" style=\"fill:#8dd3c7;\"/>\n   </g>\n   <g id=\"patch_37\">\n    <path clip-path=\"url(#p365fd58856)\" d=\"M 161.529943 224.64 \nL 164.57358 224.64 \nL 164.57358 224.639583 \nL 161.529943 224.639583 \nz\n\" style=\"fill:#8dd3c7;\"/>\n   </g>\n   <g id=\"patch_38\">\n    <path clip-path=\"url(#p365fd58856)\" d=\"M 164.57358 224.64 \nL 167.617216 224.64 \nL 167.617216 224.639583 \nL 164.57358 224.639583 \nz\n\" style=\"fill:#8dd3c7;\"/>\n   </g>\n   <g id=\"patch_39\">\n    <path clip-path=\"url(#p365fd58856)\" d=\"M 167.617216 224.64 \nL 170.660852 224.64 \nL 170.660852 224.639583 \nL 167.617216 224.639583 \nz\n\" style=\"fill:#8dd3c7;\"/>\n   </g>\n   <g id=\"patch_40\">\n    <path clip-path=\"url(#p365fd58856)\" d=\"M 170.660852 224.64 \nL 173.704489 224.64 \nL 173.704489 224.639165 \nL 170.660852 224.639165 \nz\n\" style=\"fill:#8dd3c7;\"/>\n   </g>\n   <g id=\"patch_41\">\n    <path clip-path=\"url(#p365fd58856)\" d=\"M 173.704489 224.64 \nL 176.748125 224.64 \nL 176.748125 224.639444 \nL 173.704489 224.639444 \nz\n\" style=\"fill:#8dd3c7;\"/>\n   </g>\n   <g id=\"patch_42\">\n    <path clip-path=\"url(#p365fd58856)\" d=\"M 176.748125 224.64 \nL 179.791761 224.64 \nL 179.791761 224.639026 \nL 176.748125 224.639026 \nz\n\" style=\"fill:#8dd3c7;\"/>\n   </g>\n   <g id=\"patch_43\">\n    <path clip-path=\"url(#p365fd58856)\" d=\"M 179.791761 224.64 \nL 182.835398 224.64 \nL 182.835398 224.639583 \nL 179.791761 224.639583 \nz\n\" style=\"fill:#8dd3c7;\"/>\n   </g>\n   <g id=\"patch_44\">\n    <path clip-path=\"url(#p365fd58856)\" d=\"M 182.835398 224.64 \nL 185.879034 224.64 \nL 185.879034 224.639722 \nL 182.835398 224.639722 \nz\n\" style=\"fill:#8dd3c7;\"/>\n   </g>\n   <g id=\"patch_45\">\n    <path clip-path=\"url(#p365fd58856)\" d=\"M 185.879034 224.64 \nL 188.92267 224.64 \nL 188.92267 224.639722 \nL 185.879034 224.639722 \nz\n\" style=\"fill:#8dd3c7;\"/>\n   </g>\n   <g id=\"patch_46\">\n    <path clip-path=\"url(#p365fd58856)\" d=\"M 188.92267 224.64 \nL 191.966307 224.64 \nL 191.966307 224.64 \nL 188.92267 224.64 \nz\n\" style=\"fill:#8dd3c7;\"/>\n   </g>\n   <g id=\"patch_47\">\n    <path clip-path=\"url(#p365fd58856)\" d=\"M 191.966307 224.64 \nL 195.009943 224.64 \nL 195.009943 224.639026 \nL 191.966307 224.639026 \nz\n\" style=\"fill:#8dd3c7;\"/>\n   </g>\n   <g id=\"patch_48\">\n    <path clip-path=\"url(#p365fd58856)\" d=\"M 195.009943 224.64 \nL 198.05358 224.64 \nL 198.05358 224.64 \nL 195.009943 224.64 \nz\n\" style=\"fill:#8dd3c7;\"/>\n   </g>\n   <g id=\"patch_49\">\n    <path clip-path=\"url(#p365fd58856)\" d=\"M 198.05358 224.64 \nL 201.097216 224.64 \nL 201.097216 224.64 \nL 198.05358 224.64 \nz\n\" style=\"fill:#8dd3c7;\"/>\n   </g>\n   <g id=\"patch_50\">\n    <path clip-path=\"url(#p365fd58856)\" d=\"M 201.097216 224.64 \nL 204.140852 224.64 \nL 204.140852 224.639861 \nL 201.097216 224.639861 \nz\n\" style=\"fill:#8dd3c7;\"/>\n   </g>\n   <g id=\"patch_51\">\n    <path clip-path=\"url(#p365fd58856)\" d=\"M 204.140852 224.64 \nL 207.184489 224.64 \nL 207.184489 224.64 \nL 204.140852 224.64 \nz\n\" style=\"fill:#8dd3c7;\"/>\n   </g>\n   <g id=\"patch_52\">\n    <path clip-path=\"url(#p365fd58856)\" d=\"M 207.184489 224.64 \nL 210.228125 224.64 \nL 210.228125 224.64 \nL 207.184489 224.64 \nz\n\" style=\"fill:#8dd3c7;\"/>\n   </g>\n   <g id=\"patch_53\">\n    <path clip-path=\"url(#p365fd58856)\" d=\"M 210.228125 224.64 \nL 213.271761 224.64 \nL 213.271761 224.64 \nL 210.228125 224.64 \nz\n\" style=\"fill:#8dd3c7;\"/>\n   </g>\n   <g id=\"patch_54\">\n    <path clip-path=\"url(#p365fd58856)\" d=\"M 213.271761 224.64 \nL 216.315398 224.64 \nL 216.315398 224.639583 \nL 213.271761 224.639583 \nz\n\" style=\"fill:#8dd3c7;\"/>\n   </g>\n   <g id=\"patch_55\">\n    <path clip-path=\"url(#p365fd58856)\" d=\"M 216.315398 224.64 \nL 219.359034 224.64 \nL 219.359034 224.639304 \nL 216.315398 224.639304 \nz\n\" style=\"fill:#8dd3c7;\"/>\n   </g>\n   <g id=\"patch_56\">\n    <path clip-path=\"url(#p365fd58856)\" d=\"M 219.359034 224.64 \nL 222.40267 224.64 \nL 222.40267 224.639722 \nL 219.359034 224.639722 \nz\n\" style=\"fill:#8dd3c7;\"/>\n   </g>\n   <g id=\"patch_57\">\n    <path clip-path=\"url(#p365fd58856)\" d=\"M 222.40267 224.64 \nL 225.446307 224.64 \nL 225.446307 224.639861 \nL 222.40267 224.639861 \nz\n\" style=\"fill:#8dd3c7;\"/>\n   </g>\n   <g id=\"patch_58\">\n    <path clip-path=\"url(#p365fd58856)\" d=\"M 225.446307 224.64 \nL 228.489943 224.64 \nL 228.489943 224.639583 \nL 225.446307 224.639583 \nz\n\" style=\"fill:#8dd3c7;\"/>\n   </g>\n   <g id=\"patch_59\">\n    <path clip-path=\"url(#p365fd58856)\" d=\"M 228.489943 224.64 \nL 231.53358 224.64 \nL 231.53358 224.639861 \nL 228.489943 224.639861 \nz\n\" style=\"fill:#8dd3c7;\"/>\n   </g>\n   <g id=\"patch_60\">\n    <path clip-path=\"url(#p365fd58856)\" d=\"M 231.53358 224.64 \nL 234.577216 224.64 \nL 234.577216 224.639861 \nL 231.53358 224.639861 \nz\n\" style=\"fill:#8dd3c7;\"/>\n   </g>\n   <g id=\"patch_61\">\n    <path clip-path=\"url(#p365fd58856)\" d=\"M 234.577216 224.64 \nL 237.620852 224.64 \nL 237.620852 224.639861 \nL 234.577216 224.639861 \nz\n\" style=\"fill:#8dd3c7;\"/>\n   </g>\n   <g id=\"patch_62\">\n    <path clip-path=\"url(#p365fd58856)\" d=\"M 237.620852 224.64 \nL 240.664489 224.64 \nL 240.664489 224.64 \nL 237.620852 224.64 \nz\n\" style=\"fill:#8dd3c7;\"/>\n   </g>\n   <g id=\"patch_63\">\n    <path clip-path=\"url(#p365fd58856)\" d=\"M 240.664489 224.64 \nL 243.708125 224.64 \nL 243.708125 224.639861 \nL 240.664489 224.639861 \nz\n\" style=\"fill:#8dd3c7;\"/>\n   </g>\n   <g id=\"patch_64\">\n    <path clip-path=\"url(#p365fd58856)\" d=\"M 243.708125 224.64 \nL 246.751761 224.64 \nL 246.751761 224.64 \nL 243.708125 224.64 \nz\n\" style=\"fill:#8dd3c7;\"/>\n   </g>\n   <g id=\"patch_65\">\n    <path clip-path=\"url(#p365fd58856)\" d=\"M 246.751761 224.64 \nL 249.795398 224.64 \nL 249.795398 224.64 \nL 246.751761 224.64 \nz\n\" style=\"fill:#8dd3c7;\"/>\n   </g>\n   <g id=\"patch_66\">\n    <path clip-path=\"url(#p365fd58856)\" d=\"M 249.795398 224.64 \nL 252.839034 224.64 \nL 252.839034 224.639722 \nL 249.795398 224.639722 \nz\n\" style=\"fill:#8dd3c7;\"/>\n   </g>\n   <g id=\"patch_67\">\n    <path clip-path=\"url(#p365fd58856)\" d=\"M 252.839034 224.64 \nL 255.88267 224.64 \nL 255.88267 224.639722 \nL 252.839034 224.639722 \nz\n\" style=\"fill:#8dd3c7;\"/>\n   </g>\n   <g id=\"patch_68\">\n    <path clip-path=\"url(#p365fd58856)\" d=\"M 255.88267 224.64 \nL 258.926307 224.64 \nL 258.926307 224.639583 \nL 255.88267 224.639583 \nz\n\" style=\"fill:#8dd3c7;\"/>\n   </g>\n   <g id=\"patch_69\">\n    <path clip-path=\"url(#p365fd58856)\" d=\"M 258.926307 224.64 \nL 261.969943 224.64 \nL 261.969943 224.639861 \nL 258.926307 224.639861 \nz\n\" style=\"fill:#8dd3c7;\"/>\n   </g>\n   <g id=\"patch_70\">\n    <path clip-path=\"url(#p365fd58856)\" d=\"M 261.969943 224.64 \nL 265.01358 224.64 \nL 265.01358 224.64 \nL 261.969943 224.64 \nz\n\" style=\"fill:#8dd3c7;\"/>\n   </g>\n   <g id=\"patch_71\">\n    <path clip-path=\"url(#p365fd58856)\" d=\"M 265.01358 224.64 \nL 268.057216 224.64 \nL 268.057216 224.639722 \nL 265.01358 224.639722 \nz\n\" style=\"fill:#8dd3c7;\"/>\n   </g>\n   <g id=\"patch_72\">\n    <path clip-path=\"url(#p365fd58856)\" d=\"M 268.057216 224.64 \nL 271.100852 224.64 \nL 271.100852 224.639444 \nL 268.057216 224.639444 \nz\n\" style=\"fill:#8dd3c7;\"/>\n   </g>\n   <g id=\"patch_73\">\n    <path clip-path=\"url(#p365fd58856)\" d=\"M 271.100852 224.64 \nL 274.144489 224.64 \nL 274.144489 224.639583 \nL 271.100852 224.639583 \nz\n\" style=\"fill:#8dd3c7;\"/>\n   </g>\n   <g id=\"patch_74\">\n    <path clip-path=\"url(#p365fd58856)\" d=\"M 274.144489 224.64 \nL 277.188125 224.64 \nL 277.188125 224.639722 \nL 274.144489 224.639722 \nz\n\" style=\"fill:#8dd3c7;\"/>\n   </g>\n   <g id=\"patch_75\">\n    <path clip-path=\"url(#p365fd58856)\" d=\"M 277.188125 224.64 \nL 280.231761 224.64 \nL 280.231761 224.639861 \nL 277.188125 224.639861 \nz\n\" style=\"fill:#8dd3c7;\"/>\n   </g>\n   <g id=\"patch_76\">\n    <path clip-path=\"url(#p365fd58856)\" d=\"M 280.231761 224.64 \nL 283.275398 224.64 \nL 283.275398 224.639722 \nL 280.231761 224.639722 \nz\n\" style=\"fill:#8dd3c7;\"/>\n   </g>\n   <g id=\"patch_77\">\n    <path clip-path=\"url(#p365fd58856)\" d=\"M 283.275398 224.64 \nL 286.319034 224.64 \nL 286.319034 224.64 \nL 283.275398 224.64 \nz\n\" style=\"fill:#8dd3c7;\"/>\n   </g>\n   <g id=\"patch_78\">\n    <path clip-path=\"url(#p365fd58856)\" d=\"M 286.319034 224.64 \nL 289.36267 224.64 \nL 289.36267 224.64 \nL 286.319034 224.64 \nz\n\" style=\"fill:#8dd3c7;\"/>\n   </g>\n   <g id=\"patch_79\">\n    <path clip-path=\"url(#p365fd58856)\" d=\"M 289.36267 224.64 \nL 292.406307 224.64 \nL 292.406307 224.64 \nL 289.36267 224.64 \nz\n\" style=\"fill:#8dd3c7;\"/>\n   </g>\n   <g id=\"patch_80\">\n    <path clip-path=\"url(#p365fd58856)\" d=\"M 292.406307 224.64 \nL 295.449943 224.64 \nL 295.449943 224.64 \nL 292.406307 224.64 \nz\n\" style=\"fill:#8dd3c7;\"/>\n   </g>\n   <g id=\"patch_81\">\n    <path clip-path=\"url(#p365fd58856)\" d=\"M 295.449943 224.64 \nL 298.49358 224.64 \nL 298.49358 224.64 \nL 295.449943 224.64 \nz\n\" style=\"fill:#8dd3c7;\"/>\n   </g>\n   <g id=\"patch_82\">\n    <path clip-path=\"url(#p365fd58856)\" d=\"M 298.49358 224.64 \nL 301.537216 224.64 \nL 301.537216 224.64 \nL 298.49358 224.64 \nz\n\" style=\"fill:#8dd3c7;\"/>\n   </g>\n   <g id=\"patch_83\">\n    <path clip-path=\"url(#p365fd58856)\" d=\"M 301.537216 224.64 \nL 304.580852 224.64 \nL 304.580852 224.64 \nL 301.537216 224.64 \nz\n\" style=\"fill:#8dd3c7;\"/>\n   </g>\n   <g id=\"patch_84\">\n    <path clip-path=\"url(#p365fd58856)\" d=\"M 304.580852 224.64 \nL 307.624489 224.64 \nL 307.624489 224.64 \nL 304.580852 224.64 \nz\n\" style=\"fill:#8dd3c7;\"/>\n   </g>\n   <g id=\"patch_85\">\n    <path clip-path=\"url(#p365fd58856)\" d=\"M 307.624489 224.64 \nL 310.668125 224.64 \nL 310.668125 224.64 \nL 307.624489 224.64 \nz\n\" style=\"fill:#8dd3c7;\"/>\n   </g>\n   <g id=\"patch_86\">\n    <path clip-path=\"url(#p365fd58856)\" d=\"M 310.668125 224.64 \nL 313.711761 224.64 \nL 313.711761 224.64 \nL 310.668125 224.64 \nz\n\" style=\"fill:#8dd3c7;\"/>\n   </g>\n   <g id=\"patch_87\">\n    <path clip-path=\"url(#p365fd58856)\" d=\"M 313.711761 224.64 \nL 316.755398 224.64 \nL 316.755398 224.64 \nL 313.711761 224.64 \nz\n\" style=\"fill:#8dd3c7;\"/>\n   </g>\n   <g id=\"patch_88\">\n    <path clip-path=\"url(#p365fd58856)\" d=\"M 316.755398 224.64 \nL 319.799034 224.64 \nL 319.799034 224.64 \nL 316.755398 224.64 \nz\n\" style=\"fill:#8dd3c7;\"/>\n   </g>\n   <g id=\"patch_89\">\n    <path clip-path=\"url(#p365fd58856)\" d=\"M 319.799034 224.64 \nL 322.84267 224.64 \nL 322.84267 224.64 \nL 319.799034 224.64 \nz\n\" style=\"fill:#8dd3c7;\"/>\n   </g>\n   <g id=\"patch_90\">\n    <path clip-path=\"url(#p365fd58856)\" d=\"M 322.84267 224.64 \nL 325.886307 224.64 \nL 325.886307 224.64 \nL 322.84267 224.64 \nz\n\" style=\"fill:#8dd3c7;\"/>\n   </g>\n   <g id=\"patch_91\">\n    <path clip-path=\"url(#p365fd58856)\" d=\"M 325.886307 224.64 \nL 328.929943 224.64 \nL 328.929943 224.64 \nL 325.886307 224.64 \nz\n\" style=\"fill:#8dd3c7;\"/>\n   </g>\n   <g id=\"patch_92\">\n    <path clip-path=\"url(#p365fd58856)\" d=\"M 328.929943 224.64 \nL 331.97358 224.64 \nL 331.97358 224.639861 \nL 328.929943 224.639861 \nz\n\" style=\"fill:#8dd3c7;\"/>\n   </g>\n   <g id=\"patch_93\">\n    <path clip-path=\"url(#p365fd58856)\" d=\"M 331.97358 224.64 \nL 335.017216 224.64 \nL 335.017216 224.64 \nL 331.97358 224.64 \nz\n\" style=\"fill:#8dd3c7;\"/>\n   </g>\n   <g id=\"patch_94\">\n    <path clip-path=\"url(#p365fd58856)\" d=\"M 335.017216 224.64 \nL 338.060852 224.64 \nL 338.060852 224.639722 \nL 335.017216 224.639722 \nz\n\" style=\"fill:#8dd3c7;\"/>\n   </g>\n   <g id=\"patch_95\">\n    <path clip-path=\"url(#p365fd58856)\" d=\"M 338.060852 224.64 \nL 341.104489 224.64 \nL 341.104489 224.639861 \nL 338.060852 224.639861 \nz\n\" style=\"fill:#8dd3c7;\"/>\n   </g>\n   <g id=\"patch_96\">\n    <path clip-path=\"url(#p365fd58856)\" d=\"M 341.104489 224.64 \nL 344.148125 224.64 \nL 344.148125 224.639861 \nL 341.104489 224.639861 \nz\n\" style=\"fill:#8dd3c7;\"/>\n   </g>\n   <g id=\"patch_97\">\n    <path clip-path=\"url(#p365fd58856)\" d=\"M 344.148125 224.64 \nL 347.191761 224.64 \nL 347.191761 224.64 \nL 344.148125 224.64 \nz\n\" style=\"fill:#8dd3c7;\"/>\n   </g>\n   <g id=\"patch_98\">\n    <path clip-path=\"url(#p365fd58856)\" d=\"M 347.191761 224.64 \nL 350.235398 224.64 \nL 350.235398 224.64 \nL 347.191761 224.64 \nz\n\" style=\"fill:#8dd3c7;\"/>\n   </g>\n   <g id=\"patch_99\">\n    <path clip-path=\"url(#p365fd58856)\" d=\"M 350.235398 224.64 \nL 353.279034 224.64 \nL 353.279034 224.64 \nL 350.235398 224.64 \nz\n\" style=\"fill:#8dd3c7;\"/>\n   </g>\n   <g id=\"patch_100\">\n    <path clip-path=\"url(#p365fd58856)\" d=\"M 353.279034 224.64 \nL 356.32267 224.64 \nL 356.32267 224.64 \nL 353.279034 224.64 \nz\n\" style=\"fill:#8dd3c7;\"/>\n   </g>\n   <g id=\"patch_101\">\n    <path clip-path=\"url(#p365fd58856)\" d=\"M 356.32267 224.64 \nL 359.366307 224.64 \nL 359.366307 224.64 \nL 356.32267 224.64 \nz\n\" style=\"fill:#8dd3c7;\"/>\n   </g>\n   <g id=\"patch_102\">\n    <path clip-path=\"url(#p365fd58856)\" d=\"M 359.366307 224.64 \nL 362.409943 224.64 \nL 362.409943 224.639861 \nL 359.366307 224.639861 \nz\n\" style=\"fill:#8dd3c7;\"/>\n   </g>\n   <g id=\"matplotlib.axis_1\">\n    <g id=\"xtick_1\">\n     <g id=\"line2d_1\">\n      <path clip-path=\"url(#p365fd58856)\" d=\"M 57.459864 224.64 \nL 57.459864 7.2 \n\" style=\"fill:none;stroke:#ffffff;stroke-linecap:square;stroke-width:0.8;\"/>\n     </g>\n     <g id=\"line2d_2\">\n      <defs>\n       <path d=\"M 0 0 \nL 0 3.5 \n\" id=\"m4ac202224b\" style=\"stroke:#ffffff;stroke-width:0.8;\"/>\n      </defs>\n      <g>\n       <use style=\"fill:#ffffff;stroke:#ffffff;stroke-width:0.8;\" x=\"57.459864\" xlink:href=\"#m4ac202224b\" y=\"224.64\"/>\n      </g>\n     </g>\n     <g id=\"text_1\">\n      <!-- 0 -->\n      <defs>\n       <path d=\"M 31.78125 66.40625 \nQ 24.171875 66.40625 20.328125 58.90625 \nQ 16.5 51.421875 16.5 36.375 \nQ 16.5 21.390625 20.328125 13.890625 \nQ 24.171875 6.390625 31.78125 6.390625 \nQ 39.453125 6.390625 43.28125 13.890625 \nQ 47.125 21.390625 47.125 36.375 \nQ 47.125 51.421875 43.28125 58.90625 \nQ 39.453125 66.40625 31.78125 66.40625 \nz\nM 31.78125 74.21875 \nQ 44.046875 74.21875 50.515625 64.515625 \nQ 56.984375 54.828125 56.984375 36.375 \nQ 56.984375 17.96875 50.515625 8.265625 \nQ 44.046875 -1.421875 31.78125 -1.421875 \nQ 19.53125 -1.421875 13.0625 8.265625 \nQ 6.59375 17.96875 6.59375 36.375 \nQ 6.59375 54.828125 13.0625 64.515625 \nQ 19.53125 74.21875 31.78125 74.21875 \nz\n\" id=\"DejaVuSans-48\"/>\n      </defs>\n      <g style=\"fill:#ffffff;\" transform=\"translate(54.278614 239.238437)scale(0.1 -0.1)\">\n       <use xlink:href=\"#DejaVuSans-48\"/>\n      </g>\n     </g>\n    </g>\n    <g id=\"xtick_2\">\n     <g id=\"line2d_3\">\n      <path clip-path=\"url(#p365fd58856)\" d=\"M 116.10411 224.64 \nL 116.10411 7.2 \n\" style=\"fill:none;stroke:#ffffff;stroke-linecap:square;stroke-width:0.8;\"/>\n     </g>\n     <g id=\"line2d_4\">\n      <g>\n       <use style=\"fill:#ffffff;stroke:#ffffff;stroke-width:0.8;\" x=\"116.10411\" xlink:href=\"#m4ac202224b\" y=\"224.64\"/>\n      </g>\n     </g>\n     <g id=\"text_2\">\n      <!-- 100 -->\n      <defs>\n       <path d=\"M 12.40625 8.296875 \nL 28.515625 8.296875 \nL 28.515625 63.921875 \nL 10.984375 60.40625 \nL 10.984375 69.390625 \nL 28.421875 72.90625 \nL 38.28125 72.90625 \nL 38.28125 8.296875 \nL 54.390625 8.296875 \nL 54.390625 0 \nL 12.40625 0 \nz\n\" id=\"DejaVuSans-49\"/>\n      </defs>\n      <g style=\"fill:#ffffff;\" transform=\"translate(106.56036 239.238437)scale(0.1 -0.1)\">\n       <use xlink:href=\"#DejaVuSans-49\"/>\n       <use x=\"63.623047\" xlink:href=\"#DejaVuSans-48\"/>\n       <use x=\"127.246094\" xlink:href=\"#DejaVuSans-48\"/>\n      </g>\n     </g>\n    </g>\n    <g id=\"xtick_3\">\n     <g id=\"line2d_5\">\n      <path clip-path=\"url(#p365fd58856)\" d=\"M 174.748356 224.64 \nL 174.748356 7.2 \n\" style=\"fill:none;stroke:#ffffff;stroke-linecap:square;stroke-width:0.8;\"/>\n     </g>\n     <g id=\"line2d_6\">\n      <g>\n       <use style=\"fill:#ffffff;stroke:#ffffff;stroke-width:0.8;\" x=\"174.748356\" xlink:href=\"#m4ac202224b\" y=\"224.64\"/>\n      </g>\n     </g>\n     <g id=\"text_3\">\n      <!-- 200 -->\n      <defs>\n       <path d=\"M 19.1875 8.296875 \nL 53.609375 8.296875 \nL 53.609375 0 \nL 7.328125 0 \nL 7.328125 8.296875 \nQ 12.9375 14.109375 22.625 23.890625 \nQ 32.328125 33.6875 34.8125 36.53125 \nQ 39.546875 41.84375 41.421875 45.53125 \nQ 43.3125 49.21875 43.3125 52.78125 \nQ 43.3125 58.59375 39.234375 62.25 \nQ 35.15625 65.921875 28.609375 65.921875 \nQ 23.96875 65.921875 18.8125 64.3125 \nQ 13.671875 62.703125 7.8125 59.421875 \nL 7.8125 69.390625 \nQ 13.765625 71.78125 18.9375 73 \nQ 24.125 74.21875 28.421875 74.21875 \nQ 39.75 74.21875 46.484375 68.546875 \nQ 53.21875 62.890625 53.21875 53.421875 \nQ 53.21875 48.921875 51.53125 44.890625 \nQ 49.859375 40.875 45.40625 35.40625 \nQ 44.1875 33.984375 37.640625 27.21875 \nQ 31.109375 20.453125 19.1875 8.296875 \nz\n\" id=\"DejaVuSans-50\"/>\n      </defs>\n      <g style=\"fill:#ffffff;\" transform=\"translate(165.204606 239.238437)scale(0.1 -0.1)\">\n       <use xlink:href=\"#DejaVuSans-50\"/>\n       <use x=\"63.623047\" xlink:href=\"#DejaVuSans-48\"/>\n       <use x=\"127.246094\" xlink:href=\"#DejaVuSans-48\"/>\n      </g>\n     </g>\n    </g>\n    <g id=\"xtick_4\">\n     <g id=\"line2d_7\">\n      <path clip-path=\"url(#p365fd58856)\" d=\"M 233.392602 224.64 \nL 233.392602 7.2 \n\" style=\"fill:none;stroke:#ffffff;stroke-linecap:square;stroke-width:0.8;\"/>\n     </g>\n     <g id=\"line2d_8\">\n      <g>\n       <use style=\"fill:#ffffff;stroke:#ffffff;stroke-width:0.8;\" x=\"233.392602\" xlink:href=\"#m4ac202224b\" y=\"224.64\"/>\n      </g>\n     </g>\n     <g id=\"text_4\">\n      <!-- 300 -->\n      <defs>\n       <path d=\"M 40.578125 39.3125 \nQ 47.65625 37.796875 51.625 33 \nQ 55.609375 28.21875 55.609375 21.1875 \nQ 55.609375 10.40625 48.1875 4.484375 \nQ 40.765625 -1.421875 27.09375 -1.421875 \nQ 22.515625 -1.421875 17.65625 -0.515625 \nQ 12.796875 0.390625 7.625 2.203125 \nL 7.625 11.71875 \nQ 11.71875 9.328125 16.59375 8.109375 \nQ 21.484375 6.890625 26.8125 6.890625 \nQ 36.078125 6.890625 40.9375 10.546875 \nQ 45.796875 14.203125 45.796875 21.1875 \nQ 45.796875 27.640625 41.28125 31.265625 \nQ 36.765625 34.90625 28.71875 34.90625 \nL 20.21875 34.90625 \nL 20.21875 43.015625 \nL 29.109375 43.015625 \nQ 36.375 43.015625 40.234375 45.921875 \nQ 44.09375 48.828125 44.09375 54.296875 \nQ 44.09375 59.90625 40.109375 62.90625 \nQ 36.140625 65.921875 28.71875 65.921875 \nQ 24.65625 65.921875 20.015625 65.03125 \nQ 15.375 64.15625 9.8125 62.3125 \nL 9.8125 71.09375 \nQ 15.4375 72.65625 20.34375 73.4375 \nQ 25.25 74.21875 29.59375 74.21875 \nQ 40.828125 74.21875 47.359375 69.109375 \nQ 53.90625 64.015625 53.90625 55.328125 \nQ 53.90625 49.265625 50.4375 45.09375 \nQ 46.96875 40.921875 40.578125 39.3125 \nz\n\" id=\"DejaVuSans-51\"/>\n      </defs>\n      <g style=\"fill:#ffffff;\" transform=\"translate(223.848852 239.238437)scale(0.1 -0.1)\">\n       <use xlink:href=\"#DejaVuSans-51\"/>\n       <use x=\"63.623047\" xlink:href=\"#DejaVuSans-48\"/>\n       <use x=\"127.246094\" xlink:href=\"#DejaVuSans-48\"/>\n      </g>\n     </g>\n    </g>\n    <g id=\"xtick_5\">\n     <g id=\"line2d_9\">\n      <path clip-path=\"url(#p365fd58856)\" d=\"M 292.036848 224.64 \nL 292.036848 7.2 \n\" style=\"fill:none;stroke:#ffffff;stroke-linecap:square;stroke-width:0.8;\"/>\n     </g>\n     <g id=\"line2d_10\">\n      <g>\n       <use style=\"fill:#ffffff;stroke:#ffffff;stroke-width:0.8;\" x=\"292.036848\" xlink:href=\"#m4ac202224b\" y=\"224.64\"/>\n      </g>\n     </g>\n     <g id=\"text_5\">\n      <!-- 400 -->\n      <defs>\n       <path d=\"M 37.796875 64.3125 \nL 12.890625 25.390625 \nL 37.796875 25.390625 \nz\nM 35.203125 72.90625 \nL 47.609375 72.90625 \nL 47.609375 25.390625 \nL 58.015625 25.390625 \nL 58.015625 17.1875 \nL 47.609375 17.1875 \nL 47.609375 0 \nL 37.796875 0 \nL 37.796875 17.1875 \nL 4.890625 17.1875 \nL 4.890625 26.703125 \nz\n\" id=\"DejaVuSans-52\"/>\n      </defs>\n      <g style=\"fill:#ffffff;\" transform=\"translate(282.493098 239.238437)scale(0.1 -0.1)\">\n       <use xlink:href=\"#DejaVuSans-52\"/>\n       <use x=\"63.623047\" xlink:href=\"#DejaVuSans-48\"/>\n       <use x=\"127.246094\" xlink:href=\"#DejaVuSans-48\"/>\n      </g>\n     </g>\n    </g>\n    <g id=\"xtick_6\">\n     <g id=\"line2d_11\">\n      <path clip-path=\"url(#p365fd58856)\" d=\"M 350.681094 224.64 \nL 350.681094 7.2 \n\" style=\"fill:none;stroke:#ffffff;stroke-linecap:square;stroke-width:0.8;\"/>\n     </g>\n     <g id=\"line2d_12\">\n      <g>\n       <use style=\"fill:#ffffff;stroke:#ffffff;stroke-width:0.8;\" x=\"350.681094\" xlink:href=\"#m4ac202224b\" y=\"224.64\"/>\n      </g>\n     </g>\n     <g id=\"text_6\">\n      <!-- 500 -->\n      <defs>\n       <path d=\"M 10.796875 72.90625 \nL 49.515625 72.90625 \nL 49.515625 64.59375 \nL 19.828125 64.59375 \nL 19.828125 46.734375 \nQ 21.96875 47.46875 24.109375 47.828125 \nQ 26.265625 48.1875 28.421875 48.1875 \nQ 40.625 48.1875 47.75 41.5 \nQ 54.890625 34.8125 54.890625 23.390625 \nQ 54.890625 11.625 47.5625 5.09375 \nQ 40.234375 -1.421875 26.90625 -1.421875 \nQ 22.3125 -1.421875 17.546875 -0.640625 \nQ 12.796875 0.140625 7.71875 1.703125 \nL 7.71875 11.625 \nQ 12.109375 9.234375 16.796875 8.0625 \nQ 21.484375 6.890625 26.703125 6.890625 \nQ 35.15625 6.890625 40.078125 11.328125 \nQ 45.015625 15.765625 45.015625 23.390625 \nQ 45.015625 31 40.078125 35.4375 \nQ 35.15625 39.890625 26.703125 39.890625 \nQ 22.75 39.890625 18.8125 39.015625 \nQ 14.890625 38.140625 10.796875 36.28125 \nz\n\" id=\"DejaVuSans-53\"/>\n      </defs>\n      <g style=\"fill:#ffffff;\" transform=\"translate(341.137344 239.238437)scale(0.1 -0.1)\">\n       <use xlink:href=\"#DejaVuSans-53\"/>\n       <use x=\"63.623047\" xlink:href=\"#DejaVuSans-48\"/>\n       <use x=\"127.246094\" xlink:href=\"#DejaVuSans-48\"/>\n      </g>\n     </g>\n    </g>\n   </g>\n   <g id=\"matplotlib.axis_2\">\n    <g id=\"ytick_1\">\n     <g id=\"line2d_13\">\n      <path clip-path=\"url(#p365fd58856)\" d=\"M 42.828125 224.64 \nL 377.628125 224.64 \n\" style=\"fill:none;stroke:#ffffff;stroke-linecap:square;stroke-width:0.8;\"/>\n     </g>\n     <g id=\"line2d_14\">\n      <defs>\n       <path d=\"M 0 0 \nL -3.5 0 \n\" id=\"m261ac1b85a\" style=\"stroke:#ffffff;stroke-width:0.8;\"/>\n      </defs>\n      <g>\n       <use style=\"fill:#ffffff;stroke:#ffffff;stroke-width:0.8;\" x=\"42.828125\" xlink:href=\"#m261ac1b85a\" y=\"224.64\"/>\n      </g>\n     </g>\n     <g id=\"text_7\">\n      <!-- 0.000 -->\n      <defs>\n       <path d=\"M 10.6875 12.40625 \nL 21 12.40625 \nL 21 0 \nL 10.6875 0 \nz\n\" id=\"DejaVuSans-46\"/>\n      </defs>\n      <g style=\"fill:#ffffff;\" transform=\"translate(7.2 228.439219)scale(0.1 -0.1)\">\n       <use xlink:href=\"#DejaVuSans-48\"/>\n       <use x=\"63.623047\" xlink:href=\"#DejaVuSans-46\"/>\n       <use x=\"95.410156\" xlink:href=\"#DejaVuSans-48\"/>\n       <use x=\"159.033203\" xlink:href=\"#DejaVuSans-48\"/>\n       <use x=\"222.65625\" xlink:href=\"#DejaVuSans-48\"/>\n      </g>\n     </g>\n    </g>\n    <g id=\"ytick_2\">\n     <g id=\"line2d_15\">\n      <path clip-path=\"url(#p365fd58856)\" d=\"M 42.828125 197.321957 \nL 377.628125 197.321957 \n\" style=\"fill:none;stroke:#ffffff;stroke-linecap:square;stroke-width:0.8;\"/>\n     </g>\n     <g id=\"line2d_16\">\n      <g>\n       <use style=\"fill:#ffffff;stroke:#ffffff;stroke-width:0.8;\" x=\"42.828125\" xlink:href=\"#m261ac1b85a\" y=\"197.321957\"/>\n      </g>\n     </g>\n     <g id=\"text_8\">\n      <!-- 0.025 -->\n      <g style=\"fill:#ffffff;\" transform=\"translate(7.2 201.121176)scale(0.1 -0.1)\">\n       <use xlink:href=\"#DejaVuSans-48\"/>\n       <use x=\"63.623047\" xlink:href=\"#DejaVuSans-46\"/>\n       <use x=\"95.410156\" xlink:href=\"#DejaVuSans-48\"/>\n       <use x=\"159.033203\" xlink:href=\"#DejaVuSans-50\"/>\n       <use x=\"222.65625\" xlink:href=\"#DejaVuSans-53\"/>\n      </g>\n     </g>\n    </g>\n    <g id=\"ytick_3\">\n     <g id=\"line2d_17\">\n      <path clip-path=\"url(#p365fd58856)\" d=\"M 42.828125 170.003915 \nL 377.628125 170.003915 \n\" style=\"fill:none;stroke:#ffffff;stroke-linecap:square;stroke-width:0.8;\"/>\n     </g>\n     <g id=\"line2d_18\">\n      <g>\n       <use style=\"fill:#ffffff;stroke:#ffffff;stroke-width:0.8;\" x=\"42.828125\" xlink:href=\"#m261ac1b85a\" y=\"170.003915\"/>\n      </g>\n     </g>\n     <g id=\"text_9\">\n      <!-- 0.050 -->\n      <g style=\"fill:#ffffff;\" transform=\"translate(7.2 173.803134)scale(0.1 -0.1)\">\n       <use xlink:href=\"#DejaVuSans-48\"/>\n       <use x=\"63.623047\" xlink:href=\"#DejaVuSans-46\"/>\n       <use x=\"95.410156\" xlink:href=\"#DejaVuSans-48\"/>\n       <use x=\"159.033203\" xlink:href=\"#DejaVuSans-53\"/>\n       <use x=\"222.65625\" xlink:href=\"#DejaVuSans-48\"/>\n      </g>\n     </g>\n    </g>\n    <g id=\"ytick_4\">\n     <g id=\"line2d_19\">\n      <path clip-path=\"url(#p365fd58856)\" d=\"M 42.828125 142.685872 \nL 377.628125 142.685872 \n\" style=\"fill:none;stroke:#ffffff;stroke-linecap:square;stroke-width:0.8;\"/>\n     </g>\n     <g id=\"line2d_20\">\n      <g>\n       <use style=\"fill:#ffffff;stroke:#ffffff;stroke-width:0.8;\" x=\"42.828125\" xlink:href=\"#m261ac1b85a\" y=\"142.685872\"/>\n      </g>\n     </g>\n     <g id=\"text_10\">\n      <!-- 0.075 -->\n      <defs>\n       <path d=\"M 8.203125 72.90625 \nL 55.078125 72.90625 \nL 55.078125 68.703125 \nL 28.609375 0 \nL 18.3125 0 \nL 43.21875 64.59375 \nL 8.203125 64.59375 \nz\n\" id=\"DejaVuSans-55\"/>\n      </defs>\n      <g style=\"fill:#ffffff;\" transform=\"translate(7.2 146.485091)scale(0.1 -0.1)\">\n       <use xlink:href=\"#DejaVuSans-48\"/>\n       <use x=\"63.623047\" xlink:href=\"#DejaVuSans-46\"/>\n       <use x=\"95.410156\" xlink:href=\"#DejaVuSans-48\"/>\n       <use x=\"159.033203\" xlink:href=\"#DejaVuSans-55\"/>\n       <use x=\"222.65625\" xlink:href=\"#DejaVuSans-53\"/>\n      </g>\n     </g>\n    </g>\n    <g id=\"ytick_5\">\n     <g id=\"line2d_21\">\n      <path clip-path=\"url(#p365fd58856)\" d=\"M 42.828125 115.36783 \nL 377.628125 115.36783 \n\" style=\"fill:none;stroke:#ffffff;stroke-linecap:square;stroke-width:0.8;\"/>\n     </g>\n     <g id=\"line2d_22\">\n      <g>\n       <use style=\"fill:#ffffff;stroke:#ffffff;stroke-width:0.8;\" x=\"42.828125\" xlink:href=\"#m261ac1b85a\" y=\"115.36783\"/>\n      </g>\n     </g>\n     <g id=\"text_11\">\n      <!-- 0.100 -->\n      <g style=\"fill:#ffffff;\" transform=\"translate(7.2 119.167048)scale(0.1 -0.1)\">\n       <use xlink:href=\"#DejaVuSans-48\"/>\n       <use x=\"63.623047\" xlink:href=\"#DejaVuSans-46\"/>\n       <use x=\"95.410156\" xlink:href=\"#DejaVuSans-49\"/>\n       <use x=\"159.033203\" xlink:href=\"#DejaVuSans-48\"/>\n       <use x=\"222.65625\" xlink:href=\"#DejaVuSans-48\"/>\n      </g>\n     </g>\n    </g>\n    <g id=\"ytick_6\">\n     <g id=\"line2d_23\">\n      <path clip-path=\"url(#p365fd58856)\" d=\"M 42.828125 88.049787 \nL 377.628125 88.049787 \n\" style=\"fill:none;stroke:#ffffff;stroke-linecap:square;stroke-width:0.8;\"/>\n     </g>\n     <g id=\"line2d_24\">\n      <g>\n       <use style=\"fill:#ffffff;stroke:#ffffff;stroke-width:0.8;\" x=\"42.828125\" xlink:href=\"#m261ac1b85a\" y=\"88.049787\"/>\n      </g>\n     </g>\n     <g id=\"text_12\">\n      <!-- 0.125 -->\n      <g style=\"fill:#ffffff;\" transform=\"translate(7.2 91.849006)scale(0.1 -0.1)\">\n       <use xlink:href=\"#DejaVuSans-48\"/>\n       <use x=\"63.623047\" xlink:href=\"#DejaVuSans-46\"/>\n       <use x=\"95.410156\" xlink:href=\"#DejaVuSans-49\"/>\n       <use x=\"159.033203\" xlink:href=\"#DejaVuSans-50\"/>\n       <use x=\"222.65625\" xlink:href=\"#DejaVuSans-53\"/>\n      </g>\n     </g>\n    </g>\n    <g id=\"ytick_7\">\n     <g id=\"line2d_25\">\n      <path clip-path=\"url(#p365fd58856)\" d=\"M 42.828125 60.731744 \nL 377.628125 60.731744 \n\" style=\"fill:none;stroke:#ffffff;stroke-linecap:square;stroke-width:0.8;\"/>\n     </g>\n     <g id=\"line2d_26\">\n      <g>\n       <use style=\"fill:#ffffff;stroke:#ffffff;stroke-width:0.8;\" x=\"42.828125\" xlink:href=\"#m261ac1b85a\" y=\"60.731744\"/>\n      </g>\n     </g>\n     <g id=\"text_13\">\n      <!-- 0.150 -->\n      <g style=\"fill:#ffffff;\" transform=\"translate(7.2 64.530963)scale(0.1 -0.1)\">\n       <use xlink:href=\"#DejaVuSans-48\"/>\n       <use x=\"63.623047\" xlink:href=\"#DejaVuSans-46\"/>\n       <use x=\"95.410156\" xlink:href=\"#DejaVuSans-49\"/>\n       <use x=\"159.033203\" xlink:href=\"#DejaVuSans-53\"/>\n       <use x=\"222.65625\" xlink:href=\"#DejaVuSans-48\"/>\n      </g>\n     </g>\n    </g>\n    <g id=\"ytick_8\">\n     <g id=\"line2d_27\">\n      <path clip-path=\"url(#p365fd58856)\" d=\"M 42.828125 33.413702 \nL 377.628125 33.413702 \n\" style=\"fill:none;stroke:#ffffff;stroke-linecap:square;stroke-width:0.8;\"/>\n     </g>\n     <g id=\"line2d_28\">\n      <g>\n       <use style=\"fill:#ffffff;stroke:#ffffff;stroke-width:0.8;\" x=\"42.828125\" xlink:href=\"#m261ac1b85a\" y=\"33.413702\"/>\n      </g>\n     </g>\n     <g id=\"text_14\">\n      <!-- 0.175 -->\n      <g style=\"fill:#ffffff;\" transform=\"translate(7.2 37.212921)scale(0.1 -0.1)\">\n       <use xlink:href=\"#DejaVuSans-48\"/>\n       <use x=\"63.623047\" xlink:href=\"#DejaVuSans-46\"/>\n       <use x=\"95.410156\" xlink:href=\"#DejaVuSans-49\"/>\n       <use x=\"159.033203\" xlink:href=\"#DejaVuSans-55\"/>\n       <use x=\"222.65625\" xlink:href=\"#DejaVuSans-53\"/>\n      </g>\n     </g>\n    </g>\n   </g>\n   <g id=\"line2d_29\">\n    <path clip-path=\"url(#p365fd58856)\" d=\"M 59.568125 31.358171 \nL 62.611761 207.635028 \nL 65.655398 224.508373 \nL 68.699034 224.63991 \nL 71.74267 224.64 \nL 74.786307 224.64 \nL 77.829943 224.64 \nL 80.87358 224.64 \nL 83.917216 224.64 \nL 86.960852 224.64 \nL 90.004489 224.64 \nL 93.048125 224.64 \nL 96.091761 224.64 \nL 99.135398 224.64 \nL 102.179034 224.64 \nL 105.22267 224.64 \nL 108.266307 224.64 \nL 111.309943 224.64 \nL 114.35358 224.64 \nL 117.397216 224.64 \nL 120.440852 224.64 \nL 123.484489 224.64 \nL 126.528125 224.64 \nL 129.571761 224.64 \nL 132.615398 224.64 \nL 135.659034 224.64 \nL 138.70267 224.64 \nL 141.746307 224.64 \nL 144.789943 224.64 \nL 147.83358 224.64 \nL 150.877216 224.64 \nL 153.920852 224.64 \nL 156.964489 224.64 \nL 160.008125 224.64 \nL 163.051761 224.64 \nL 166.095398 224.64 \nL 169.139034 224.64 \nL 172.18267 224.64 \nL 175.226307 224.64 \nL 178.269943 224.64 \nL 181.31358 224.64 \nL 184.357216 224.64 \nL 187.400852 224.64 \nL 190.444489 224.64 \nL 193.488125 224.64 \nL 196.531761 224.64 \nL 199.575398 224.64 \nL 202.619034 224.64 \nL 205.66267 224.64 \nL 208.706307 224.64 \nL 211.749943 224.64 \nL 214.79358 224.64 \nL 217.837216 224.64 \nL 220.880852 224.64 \nL 223.924489 224.64 \nL 226.968125 224.64 \nL 230.011761 224.64 \nL 233.055398 224.64 \nL 236.099034 224.64 \nL 239.14267 224.64 \nL 242.186307 224.64 \nL 245.229943 224.64 \nL 248.27358 224.64 \nL 251.317216 224.64 \nL 254.360852 224.64 \nL 257.404489 224.64 \nL 260.448125 224.64 \nL 263.491761 224.64 \nL 266.535398 224.64 \nL 269.579034 224.64 \nL 272.62267 224.64 \nL 275.666307 224.64 \nL 278.709943 224.64 \nL 281.75358 224.64 \nL 284.797216 224.64 \nL 287.840852 224.64 \nL 290.884489 224.64 \nL 293.928125 224.64 \nL 296.971761 224.64 \nL 300.015398 224.64 \nL 303.059034 224.64 \nL 306.10267 224.64 \nL 309.146307 224.64 \nL 312.189943 224.64 \nL 315.23358 224.64 \nL 318.277216 224.64 \nL 321.320852 224.64 \nL 324.364489 224.64 \nL 327.408125 224.64 \nL 330.451761 224.64 \nL 333.495398 224.64 \nL 336.539034 224.64 \nL 339.58267 224.64 \nL 342.626307 224.64 \nL 345.669943 224.64 \nL 348.71358 224.64 \nL 351.757216 224.64 \nL 354.800852 224.64 \nL 357.844489 224.64 \nL 360.888125 224.64 \n\" style=\"fill:none;stroke:#feffb3;stroke-linecap:square;stroke-width:2;\"/>\n   </g>\n   <g id=\"line2d_30\">\n    <path clip-path=\"url(#p365fd58856)\" d=\"M 59.568125 90.76404 \nL 62.611761 217.835832 \nL 65.655398 224.612473 \nL 68.699034 224.63999 \nL 71.74267 224.64 \nL 74.786307 224.64 \nL 77.829943 224.64 \nL 80.87358 224.64 \nL 83.917216 224.64 \nL 86.960852 224.64 \nL 90.004489 224.64 \nL 93.048125 224.64 \nL 96.091761 224.64 \nL 99.135398 224.64 \nL 102.179034 224.64 \nL 105.22267 224.64 \nL 108.266307 224.64 \nL 111.309943 224.64 \nL 114.35358 224.64 \nL 117.397216 224.64 \nL 120.440852 224.64 \nL 123.484489 224.64 \nL 126.528125 224.64 \nL 129.571761 224.64 \nL 132.615398 224.64 \nL 135.659034 224.64 \nL 138.70267 224.64 \nL 141.746307 224.64 \nL 144.789943 224.64 \nL 147.83358 224.64 \nL 150.877216 224.64 \nL 153.920852 224.64 \nL 156.964489 224.64 \nL 160.008125 224.64 \nL 163.051761 224.64 \nL 166.095398 224.64 \nL 169.139034 224.64 \nL 172.18267 224.64 \nL 175.226307 224.64 \nL 178.269943 224.64 \nL 181.31358 224.64 \nL 184.357216 224.64 \nL 187.400852 224.64 \nL 190.444489 224.64 \nL 193.488125 224.64 \nL 196.531761 224.64 \nL 199.575398 224.64 \nL 202.619034 224.64 \nL 205.66267 224.64 \nL 208.706307 224.64 \nL 211.749943 224.64 \nL 214.79358 224.64 \nL 217.837216 224.64 \nL 220.880852 224.64 \nL 223.924489 224.64 \nL 226.968125 224.64 \nL 230.011761 224.64 \nL 233.055398 224.64 \nL 236.099034 224.64 \nL 239.14267 224.64 \nL 242.186307 224.64 \nL 245.229943 224.64 \nL 248.27358 224.64 \nL 251.317216 224.64 \nL 254.360852 224.64 \nL 257.404489 224.64 \nL 260.448125 224.64 \nL 263.491761 224.64 \nL 266.535398 224.64 \nL 269.579034 224.64 \nL 272.62267 224.64 \nL 275.666307 224.64 \nL 278.709943 224.64 \nL 281.75358 224.64 \nL 284.797216 224.64 \nL 287.840852 224.64 \nL 290.884489 224.64 \nL 293.928125 224.64 \nL 296.971761 224.64 \nL 300.015398 224.64 \nL 303.059034 224.64 \nL 306.10267 224.64 \nL 309.146307 224.64 \nL 312.189943 224.64 \nL 315.23358 224.64 \nL 318.277216 224.64 \nL 321.320852 224.64 \nL 324.364489 224.64 \nL 327.408125 224.64 \nL 330.451761 224.64 \nL 333.495398 224.64 \nL 336.539034 224.64 \nL 339.58267 224.64 \nL 342.626307 224.64 \nL 345.669943 224.64 \nL 348.71358 224.64 \nL 351.757216 224.64 \nL 354.800852 224.64 \nL 357.844489 224.64 \nL 360.888125 224.64 \n\" style=\"fill:none;stroke:#bfbbd9;stroke-linecap:square;stroke-width:2;\"/>\n   </g>\n   <g id=\"line2d_31\">\n    <path clip-path=\"url(#p365fd58856)\" d=\"M 59.568125 116.661626 \nL 62.611761 213.25092 \nL 65.655398 224.5399 \nL 68.699034 224.639927 \nL 71.74267 224.64 \nL 74.786307 224.64 \nL 77.829943 224.64 \nL 80.87358 224.64 \nL 83.917216 224.64 \nL 86.960852 224.64 \nL 90.004489 224.64 \nL 93.048125 224.64 \nL 96.091761 224.64 \nL 99.135398 224.64 \nL 102.179034 224.64 \nL 105.22267 224.64 \nL 108.266307 224.64 \nL 111.309943 224.64 \nL 114.35358 224.64 \nL 117.397216 224.64 \nL 120.440852 224.64 \nL 123.484489 224.64 \nL 126.528125 224.64 \nL 129.571761 224.64 \nL 132.615398 224.64 \nL 135.659034 224.64 \nL 138.70267 224.64 \nL 141.746307 224.64 \nL 144.789943 224.64 \nL 147.83358 224.64 \nL 150.877216 224.64 \nL 153.920852 224.64 \nL 156.964489 224.64 \nL 160.008125 224.64 \nL 163.051761 224.64 \nL 166.095398 224.64 \nL 169.139034 224.64 \nL 172.18267 224.64 \nL 175.226307 224.64 \nL 178.269943 224.64 \nL 181.31358 224.64 \nL 184.357216 224.64 \nL 187.400852 224.64 \nL 190.444489 224.64 \nL 193.488125 224.64 \nL 196.531761 224.64 \nL 199.575398 224.64 \nL 202.619034 224.64 \nL 205.66267 224.64 \nL 208.706307 224.64 \nL 211.749943 224.64 \nL 214.79358 224.64 \nL 217.837216 224.64 \nL 220.880852 224.64 \nL 223.924489 224.64 \nL 226.968125 224.64 \nL 230.011761 224.64 \nL 233.055398 224.64 \nL 236.099034 224.64 \nL 239.14267 224.64 \nL 242.186307 224.64 \nL 245.229943 224.64 \nL 248.27358 224.64 \nL 251.317216 224.64 \nL 254.360852 224.64 \nL 257.404489 224.64 \nL 260.448125 224.64 \nL 263.491761 224.64 \nL 266.535398 224.64 \nL 269.579034 224.64 \nL 272.62267 224.64 \nL 275.666307 224.64 \nL 278.709943 224.64 \nL 281.75358 224.64 \nL 284.797216 224.64 \nL 287.840852 224.64 \nL 290.884489 224.64 \nL 293.928125 224.64 \nL 296.971761 224.64 \nL 300.015398 224.64 \nL 303.059034 224.64 \nL 306.10267 224.64 \nL 309.146307 224.64 \nL 312.189943 224.64 \nL 315.23358 224.64 \nL 318.277216 224.64 \nL 321.320852 224.64 \nL 324.364489 224.64 \nL 327.408125 224.64 \nL 330.451761 224.64 \nL 333.495398 224.64 \nL 336.539034 224.64 \nL 339.58267 224.64 \nL 342.626307 224.64 \nL 345.669943 224.64 \nL 348.71358 224.64 \nL 351.757216 224.64 \nL 354.800852 224.64 \nL 357.844489 224.64 \nL 360.888125 224.64 \n\" style=\"fill:none;stroke:#fa8174;stroke-linecap:square;stroke-width:2;\"/>\n   </g>\n   <g id=\"line2d_32\">\n    <path clip-path=\"url(#p365fd58856)\" d=\"M 59.568125 152.437907 \nL 62.611761 212.220431 \nL 65.655398 223.302849 \nL 68.699034 224.574348 \nL 71.74267 224.638627 \nL 74.786307 224.639988 \nL 77.829943 224.64 \nL 80.87358 224.64 \nL 83.917216 224.64 \nL 86.960852 224.64 \nL 90.004489 224.64 \nL 93.048125 224.64 \nL 96.091761 224.64 \nL 99.135398 224.64 \nL 102.179034 224.64 \nL 105.22267 224.64 \nL 108.266307 224.64 \nL 111.309943 224.64 \nL 114.35358 224.64 \nL 117.397216 224.64 \nL 120.440852 224.64 \nL 123.484489 224.64 \nL 126.528125 224.64 \nL 129.571761 224.64 \nL 132.615398 224.64 \nL 135.659034 224.64 \nL 138.70267 224.64 \nL 141.746307 224.64 \nL 144.789943 224.64 \nL 147.83358 224.64 \nL 150.877216 224.64 \nL 153.920852 224.64 \nL 156.964489 224.64 \nL 160.008125 224.64 \nL 163.051761 224.64 \nL 166.095398 224.64 \nL 169.139034 224.64 \nL 172.18267 224.64 \nL 175.226307 224.64 \nL 178.269943 224.64 \nL 181.31358 224.64 \nL 184.357216 224.64 \nL 187.400852 224.64 \nL 190.444489 224.64 \nL 193.488125 224.64 \nL 196.531761 224.64 \nL 199.575398 224.64 \nL 202.619034 224.64 \nL 205.66267 224.64 \nL 208.706307 224.64 \nL 211.749943 224.64 \nL 214.79358 224.64 \nL 217.837216 224.64 \nL 220.880852 224.64 \nL 223.924489 224.64 \nL 226.968125 224.64 \nL 230.011761 224.64 \nL 233.055398 224.64 \nL 236.099034 224.64 \nL 239.14267 224.64 \nL 242.186307 224.64 \nL 245.229943 224.64 \nL 248.27358 224.64 \nL 251.317216 224.64 \nL 254.360852 224.64 \nL 257.404489 224.64 \nL 260.448125 224.64 \nL 263.491761 224.64 \nL 266.535398 224.64 \nL 269.579034 224.64 \nL 272.62267 224.64 \nL 275.666307 224.64 \nL 278.709943 224.64 \nL 281.75358 224.64 \nL 284.797216 224.64 \nL 287.840852 224.64 \nL 290.884489 224.64 \nL 293.928125 224.64 \nL 296.971761 224.64 \nL 300.015398 224.64 \nL 303.059034 224.64 \nL 306.10267 224.64 \nL 309.146307 224.64 \nL 312.189943 224.64 \nL 315.23358 224.64 \nL 318.277216 224.64 \nL 321.320852 224.64 \nL 324.364489 224.64 \nL 327.408125 224.64 \nL 330.451761 224.64 \nL 333.495398 224.64 \nL 336.539034 224.64 \nL 339.58267 224.64 \nL 342.626307 224.64 \nL 345.669943 224.64 \nL 348.71358 224.64 \nL 351.757216 224.64 \nL 354.800852 224.64 \nL 357.844489 224.64 \nL 360.888125 224.64 \n\" style=\"fill:none;stroke:#81b1d2;stroke-linecap:square;stroke-width:2;\"/>\n   </g>\n   <g id=\"line2d_33\">\n    <path clip-path=\"url(#p365fd58856)\" d=\"M 59.568125 144.429456 \nL 62.611761 167.083045 \nL 65.655398 192.953377 \nL 68.699034 211.259804 \nL 71.74267 220.307728 \nL 74.786307 223.564864 \nL 77.829943 224.435586 \nL 80.87358 224.610239 \nL 83.917216 224.636684 \nL 86.960852 224.639717 \nL 90.004489 224.639982 \nL 93.048125 224.639999 \nL 96.091761 224.64 \nL 99.135398 224.64 \nL 102.179034 224.64 \nL 105.22267 224.64 \nL 108.266307 224.64 \nL 111.309943 224.64 \nL 114.35358 224.64 \nL 117.397216 224.64 \nL 120.440852 224.64 \nL 123.484489 224.64 \nL 126.528125 224.64 \nL 129.571761 224.64 \nL 132.615398 224.64 \nL 135.659034 224.64 \nL 138.70267 224.64 \nL 141.746307 224.64 \nL 144.789943 224.64 \nL 147.83358 224.64 \nL 150.877216 224.64 \nL 153.920852 224.64 \nL 156.964489 224.64 \nL 160.008125 224.64 \nL 163.051761 224.64 \nL 166.095398 224.64 \nL 169.139034 224.64 \nL 172.18267 224.64 \nL 175.226307 224.64 \nL 178.269943 224.64 \nL 181.31358 224.64 \nL 184.357216 224.64 \nL 187.400852 224.64 \nL 190.444489 224.64 \nL 193.488125 224.64 \nL 196.531761 224.64 \nL 199.575398 224.64 \nL 202.619034 224.64 \nL 205.66267 224.64 \nL 208.706307 224.64 \nL 211.749943 224.64 \nL 214.79358 224.64 \nL 217.837216 224.64 \nL 220.880852 224.64 \nL 223.924489 224.64 \nL 226.968125 224.64 \nL 230.011761 224.64 \nL 233.055398 224.64 \nL 236.099034 224.64 \nL 239.14267 224.64 \nL 242.186307 224.64 \nL 245.229943 224.64 \nL 248.27358 224.64 \nL 251.317216 224.64 \nL 254.360852 224.64 \nL 257.404489 224.64 \nL 260.448125 224.64 \nL 263.491761 224.64 \nL 266.535398 224.64 \nL 269.579034 224.64 \nL 272.62267 224.64 \nL 275.666307 224.64 \nL 278.709943 224.64 \nL 281.75358 224.64 \nL 284.797216 224.64 \nL 287.840852 224.64 \nL 290.884489 224.64 \nL 293.928125 224.64 \nL 296.971761 224.64 \nL 300.015398 224.64 \nL 303.059034 224.64 \nL 306.10267 224.64 \nL 309.146307 224.64 \nL 312.189943 224.64 \nL 315.23358 224.64 \nL 318.277216 224.64 \nL 321.320852 224.64 \nL 324.364489 224.64 \nL 327.408125 224.64 \nL 330.451761 224.64 \nL 333.495398 224.64 \nL 336.539034 224.64 \nL 339.58267 224.64 \nL 342.626307 224.64 \nL 345.669943 224.64 \nL 348.71358 224.64 \nL 351.757216 224.64 \nL 354.800852 224.64 \nL 357.844489 224.64 \nL 360.888125 224.64 \n\" style=\"fill:none;stroke:#fdb462;stroke-linecap:square;stroke-width:2;\"/>\n   </g>\n   <g id=\"patch_103\">\n    <path d=\"M 42.828125 224.64 \nL 42.828125 7.2 \n\" style=\"fill:none;stroke:#ffffff;stroke-linecap:square;stroke-linejoin:miter;stroke-width:0.8;\"/>\n   </g>\n   <g id=\"patch_104\">\n    <path d=\"M 377.628125 224.64 \nL 377.628125 7.2 \n\" style=\"fill:none;stroke:#ffffff;stroke-linecap:square;stroke-linejoin:miter;stroke-width:0.8;\"/>\n   </g>\n   <g id=\"patch_105\">\n    <path d=\"M 42.828125 224.64 \nL 377.628125 224.64 \n\" style=\"fill:none;stroke:#ffffff;stroke-linecap:square;stroke-linejoin:miter;stroke-width:0.8;\"/>\n   </g>\n   <g id=\"patch_106\">\n    <path d=\"M 42.828125 7.2 \nL 377.628125 7.2 \n\" style=\"fill:none;stroke:#ffffff;stroke-linecap:square;stroke-linejoin:miter;stroke-width:0.8;\"/>\n   </g>\n   <g id=\"legend_1\">\n    <g id=\"patch_107\">\n     <path d=\"M 293.55625 88.590625 \nL 370.628125 88.590625 \nQ 372.628125 88.590625 372.628125 86.590625 \nL 372.628125 14.2 \nQ 372.628125 12.2 370.628125 12.2 \nL 293.55625 12.2 \nQ 291.55625 12.2 291.55625 14.2 \nL 291.55625 86.590625 \nQ 291.55625 88.590625 293.55625 88.590625 \nz\n\" style=\"opacity:0.8;stroke:#cccccc;stroke-linejoin:miter;\"/>\n    </g>\n    <g id=\"line2d_34\">\n     <path d=\"M 295.55625 20.298437 \nL 315.55625 20.298437 \n\" style=\"fill:none;stroke:#feffb3;stroke-linecap:square;stroke-width:2;\"/>\n    </g>\n    <g id=\"line2d_35\"/>\n    <g id=\"text_15\">\n     <!-- halfnorm -->\n     <defs>\n      <path d=\"M 54.890625 33.015625 \nL 54.890625 0 \nL 45.90625 0 \nL 45.90625 32.71875 \nQ 45.90625 40.484375 42.875 44.328125 \nQ 39.84375 48.1875 33.796875 48.1875 \nQ 26.515625 48.1875 22.3125 43.546875 \nQ 18.109375 38.921875 18.109375 30.90625 \nL 18.109375 0 \nL 9.078125 0 \nL 9.078125 75.984375 \nL 18.109375 75.984375 \nL 18.109375 46.1875 \nQ 21.34375 51.125 25.703125 53.5625 \nQ 30.078125 56 35.796875 56 \nQ 45.21875 56 50.046875 50.171875 \nQ 54.890625 44.34375 54.890625 33.015625 \nz\n\" id=\"DejaVuSans-104\"/>\n      <path d=\"M 34.28125 27.484375 \nQ 23.390625 27.484375 19.1875 25 \nQ 14.984375 22.515625 14.984375 16.5 \nQ 14.984375 11.71875 18.140625 8.90625 \nQ 21.296875 6.109375 26.703125 6.109375 \nQ 34.1875 6.109375 38.703125 11.40625 \nQ 43.21875 16.703125 43.21875 25.484375 \nL 43.21875 27.484375 \nz\nM 52.203125 31.203125 \nL 52.203125 0 \nL 43.21875 0 \nL 43.21875 8.296875 \nQ 40.140625 3.328125 35.546875 0.953125 \nQ 30.953125 -1.421875 24.3125 -1.421875 \nQ 15.921875 -1.421875 10.953125 3.296875 \nQ 6 8.015625 6 15.921875 \nQ 6 25.140625 12.171875 29.828125 \nQ 18.359375 34.515625 30.609375 34.515625 \nL 43.21875 34.515625 \nL 43.21875 35.40625 \nQ 43.21875 41.609375 39.140625 45 \nQ 35.0625 48.390625 27.6875 48.390625 \nQ 23 48.390625 18.546875 47.265625 \nQ 14.109375 46.140625 10.015625 43.890625 \nL 10.015625 52.203125 \nQ 14.9375 54.109375 19.578125 55.046875 \nQ 24.21875 56 28.609375 56 \nQ 40.484375 56 46.34375 49.84375 \nQ 52.203125 43.703125 52.203125 31.203125 \nz\n\" id=\"DejaVuSans-97\"/>\n      <path d=\"M 9.421875 75.984375 \nL 18.40625 75.984375 \nL 18.40625 0 \nL 9.421875 0 \nz\n\" id=\"DejaVuSans-108\"/>\n      <path d=\"M 37.109375 75.984375 \nL 37.109375 68.5 \nL 28.515625 68.5 \nQ 23.6875 68.5 21.796875 66.546875 \nQ 19.921875 64.59375 19.921875 59.515625 \nL 19.921875 54.6875 \nL 34.71875 54.6875 \nL 34.71875 47.703125 \nL 19.921875 47.703125 \nL 19.921875 0 \nL 10.890625 0 \nL 10.890625 47.703125 \nL 2.296875 47.703125 \nL 2.296875 54.6875 \nL 10.890625 54.6875 \nL 10.890625 58.5 \nQ 10.890625 67.625 15.140625 71.796875 \nQ 19.390625 75.984375 28.609375 75.984375 \nz\n\" id=\"DejaVuSans-102\"/>\n      <path d=\"M 54.890625 33.015625 \nL 54.890625 0 \nL 45.90625 0 \nL 45.90625 32.71875 \nQ 45.90625 40.484375 42.875 44.328125 \nQ 39.84375 48.1875 33.796875 48.1875 \nQ 26.515625 48.1875 22.3125 43.546875 \nQ 18.109375 38.921875 18.109375 30.90625 \nL 18.109375 0 \nL 9.078125 0 \nL 9.078125 54.6875 \nL 18.109375 54.6875 \nL 18.109375 46.1875 \nQ 21.34375 51.125 25.703125 53.5625 \nQ 30.078125 56 35.796875 56 \nQ 45.21875 56 50.046875 50.171875 \nQ 54.890625 44.34375 54.890625 33.015625 \nz\n\" id=\"DejaVuSans-110\"/>\n      <path d=\"M 30.609375 48.390625 \nQ 23.390625 48.390625 19.1875 42.75 \nQ 14.984375 37.109375 14.984375 27.296875 \nQ 14.984375 17.484375 19.15625 11.84375 \nQ 23.34375 6.203125 30.609375 6.203125 \nQ 37.796875 6.203125 41.984375 11.859375 \nQ 46.1875 17.53125 46.1875 27.296875 \nQ 46.1875 37.015625 41.984375 42.703125 \nQ 37.796875 48.390625 30.609375 48.390625 \nz\nM 30.609375 56 \nQ 42.328125 56 49.015625 48.375 \nQ 55.71875 40.765625 55.71875 27.296875 \nQ 55.71875 13.875 49.015625 6.21875 \nQ 42.328125 -1.421875 30.609375 -1.421875 \nQ 18.84375 -1.421875 12.171875 6.21875 \nQ 5.515625 13.875 5.515625 27.296875 \nQ 5.515625 40.765625 12.171875 48.375 \nQ 18.84375 56 30.609375 56 \nz\n\" id=\"DejaVuSans-111\"/>\n      <path d=\"M 41.109375 46.296875 \nQ 39.59375 47.171875 37.8125 47.578125 \nQ 36.03125 48 33.890625 48 \nQ 26.265625 48 22.1875 43.046875 \nQ 18.109375 38.09375 18.109375 28.8125 \nL 18.109375 0 \nL 9.078125 0 \nL 9.078125 54.6875 \nL 18.109375 54.6875 \nL 18.109375 46.1875 \nQ 20.953125 51.171875 25.484375 53.578125 \nQ 30.03125 56 36.53125 56 \nQ 37.453125 56 38.578125 55.875 \nQ 39.703125 55.765625 41.0625 55.515625 \nz\n\" id=\"DejaVuSans-114\"/>\n      <path d=\"M 52 44.1875 \nQ 55.375 50.25 60.0625 53.125 \nQ 64.75 56 71.09375 56 \nQ 79.640625 56 84.28125 50.015625 \nQ 88.921875 44.046875 88.921875 33.015625 \nL 88.921875 0 \nL 79.890625 0 \nL 79.890625 32.71875 \nQ 79.890625 40.578125 77.09375 44.375 \nQ 74.3125 48.1875 68.609375 48.1875 \nQ 61.625 48.1875 57.5625 43.546875 \nQ 53.515625 38.921875 53.515625 30.90625 \nL 53.515625 0 \nL 44.484375 0 \nL 44.484375 32.71875 \nQ 44.484375 40.625 41.703125 44.40625 \nQ 38.921875 48.1875 33.109375 48.1875 \nQ 26.21875 48.1875 22.15625 43.53125 \nQ 18.109375 38.875 18.109375 30.90625 \nL 18.109375 0 \nL 9.078125 0 \nL 9.078125 54.6875 \nL 18.109375 54.6875 \nL 18.109375 46.1875 \nQ 21.1875 51.21875 25.484375 53.609375 \nQ 29.78125 56 35.6875 56 \nQ 41.65625 56 45.828125 52.96875 \nQ 50 49.953125 52 44.1875 \nz\n\" id=\"DejaVuSans-109\"/>\n     </defs>\n     <g style=\"fill:#ffffff;\" transform=\"translate(323.55625 23.798437)scale(0.1 -0.1)\">\n      <use xlink:href=\"#DejaVuSans-104\"/>\n      <use x=\"63.378906\" xlink:href=\"#DejaVuSans-97\"/>\n      <use x=\"124.658203\" xlink:href=\"#DejaVuSans-108\"/>\n      <use x=\"152.441406\" xlink:href=\"#DejaVuSans-102\"/>\n      <use x=\"187.646484\" xlink:href=\"#DejaVuSans-110\"/>\n      <use x=\"251.025391\" xlink:href=\"#DejaVuSans-111\"/>\n      <use x=\"312.207031\" xlink:href=\"#DejaVuSans-114\"/>\n      <use x=\"353.304688\" xlink:href=\"#DejaVuSans-109\"/>\n     </g>\n    </g>\n    <g id=\"line2d_36\">\n     <path d=\"M 295.55625 34.976562 \nL 315.55625 34.976562 \n\" style=\"fill:none;stroke:#bfbbd9;stroke-linecap:square;stroke-width:2;\"/>\n    </g>\n    <g id=\"line2d_37\"/>\n    <g id=\"text_16\">\n     <!-- rayleigh -->\n     <defs>\n      <path d=\"M 32.171875 -5.078125 \nQ 28.375 -14.84375 24.75 -17.8125 \nQ 21.140625 -20.796875 15.09375 -20.796875 \nL 7.90625 -20.796875 \nL 7.90625 -13.28125 \nL 13.1875 -13.28125 \nQ 16.890625 -13.28125 18.9375 -11.515625 \nQ 21 -9.765625 23.484375 -3.21875 \nL 25.09375 0.875 \nL 2.984375 54.6875 \nL 12.5 54.6875 \nL 29.59375 11.921875 \nL 46.6875 54.6875 \nL 56.203125 54.6875 \nz\n\" id=\"DejaVuSans-121\"/>\n      <path d=\"M 56.203125 29.59375 \nL 56.203125 25.203125 \nL 14.890625 25.203125 \nQ 15.484375 15.921875 20.484375 11.0625 \nQ 25.484375 6.203125 34.421875 6.203125 \nQ 39.59375 6.203125 44.453125 7.46875 \nQ 49.3125 8.734375 54.109375 11.28125 \nL 54.109375 2.78125 \nQ 49.265625 0.734375 44.1875 -0.34375 \nQ 39.109375 -1.421875 33.890625 -1.421875 \nQ 20.796875 -1.421875 13.15625 6.1875 \nQ 5.515625 13.8125 5.515625 26.8125 \nQ 5.515625 40.234375 12.765625 48.109375 \nQ 20.015625 56 32.328125 56 \nQ 43.359375 56 49.78125 48.890625 \nQ 56.203125 41.796875 56.203125 29.59375 \nz\nM 47.21875 32.234375 \nQ 47.125 39.59375 43.09375 43.984375 \nQ 39.0625 48.390625 32.421875 48.390625 \nQ 24.90625 48.390625 20.390625 44.140625 \nQ 15.875 39.890625 15.1875 32.171875 \nz\n\" id=\"DejaVuSans-101\"/>\n      <path d=\"M 9.421875 54.6875 \nL 18.40625 54.6875 \nL 18.40625 0 \nL 9.421875 0 \nz\nM 9.421875 75.984375 \nL 18.40625 75.984375 \nL 18.40625 64.59375 \nL 9.421875 64.59375 \nz\n\" id=\"DejaVuSans-105\"/>\n      <path d=\"M 45.40625 27.984375 \nQ 45.40625 37.75 41.375 43.109375 \nQ 37.359375 48.484375 30.078125 48.484375 \nQ 22.859375 48.484375 18.828125 43.109375 \nQ 14.796875 37.75 14.796875 27.984375 \nQ 14.796875 18.265625 18.828125 12.890625 \nQ 22.859375 7.515625 30.078125 7.515625 \nQ 37.359375 7.515625 41.375 12.890625 \nQ 45.40625 18.265625 45.40625 27.984375 \nz\nM 54.390625 6.78125 \nQ 54.390625 -7.171875 48.1875 -13.984375 \nQ 42 -20.796875 29.203125 -20.796875 \nQ 24.46875 -20.796875 20.265625 -20.09375 \nQ 16.0625 -19.390625 12.109375 -17.921875 \nL 12.109375 -9.1875 \nQ 16.0625 -11.328125 19.921875 -12.34375 \nQ 23.78125 -13.375 27.78125 -13.375 \nQ 36.625 -13.375 41.015625 -8.765625 \nQ 45.40625 -4.15625 45.40625 5.171875 \nL 45.40625 9.625 \nQ 42.625 4.78125 38.28125 2.390625 \nQ 33.9375 0 27.875 0 \nQ 17.828125 0 11.671875 7.65625 \nQ 5.515625 15.328125 5.515625 27.984375 \nQ 5.515625 40.671875 11.671875 48.328125 \nQ 17.828125 56 27.875 56 \nQ 33.9375 56 38.28125 53.609375 \nQ 42.625 51.21875 45.40625 46.390625 \nL 45.40625 54.6875 \nL 54.390625 54.6875 \nz\n\" id=\"DejaVuSans-103\"/>\n     </defs>\n     <g style=\"fill:#ffffff;\" transform=\"translate(323.55625 38.476562)scale(0.1 -0.1)\">\n      <use xlink:href=\"#DejaVuSans-114\"/>\n      <use x=\"41.113281\" xlink:href=\"#DejaVuSans-97\"/>\n      <use x=\"102.392578\" xlink:href=\"#DejaVuSans-121\"/>\n      <use x=\"161.572266\" xlink:href=\"#DejaVuSans-108\"/>\n      <use x=\"189.355469\" xlink:href=\"#DejaVuSans-101\"/>\n      <use x=\"250.878906\" xlink:href=\"#DejaVuSans-105\"/>\n      <use x=\"278.662109\" xlink:href=\"#DejaVuSans-103\"/>\n      <use x=\"342.138672\" xlink:href=\"#DejaVuSans-104\"/>\n     </g>\n    </g>\n    <g id=\"line2d_38\">\n     <path d=\"M 295.55625 49.654687 \nL 315.55625 49.654687 \n\" style=\"fill:none;stroke:#fa8174;stroke-linecap:square;stroke-width:2;\"/>\n    </g>\n    <g id=\"line2d_39\"/>\n    <g id=\"text_17\">\n     <!-- norm -->\n     <g style=\"fill:#ffffff;\" transform=\"translate(323.55625 53.154687)scale(0.1 -0.1)\">\n      <use xlink:href=\"#DejaVuSans-110\"/>\n      <use x=\"63.378906\" xlink:href=\"#DejaVuSans-111\"/>\n      <use x=\"124.560547\" xlink:href=\"#DejaVuSans-114\"/>\n      <use x=\"165.658203\" xlink:href=\"#DejaVuSans-109\"/>\n     </g>\n    </g>\n    <g id=\"line2d_40\">\n     <path d=\"M 295.55625 64.332812 \nL 315.55625 64.332812 \n\" style=\"fill:none;stroke:#81b1d2;stroke-linecap:square;stroke-width:2;\"/>\n    </g>\n    <g id=\"line2d_41\"/>\n    <g id=\"text_18\">\n     <!-- chi -->\n     <defs>\n      <path d=\"M 48.78125 52.59375 \nL 48.78125 44.1875 \nQ 44.96875 46.296875 41.140625 47.34375 \nQ 37.3125 48.390625 33.40625 48.390625 \nQ 24.65625 48.390625 19.8125 42.84375 \nQ 14.984375 37.3125 14.984375 27.296875 \nQ 14.984375 17.28125 19.8125 11.734375 \nQ 24.65625 6.203125 33.40625 6.203125 \nQ 37.3125 6.203125 41.140625 7.25 \nQ 44.96875 8.296875 48.78125 10.40625 \nL 48.78125 2.09375 \nQ 45.015625 0.34375 40.984375 -0.53125 \nQ 36.96875 -1.421875 32.421875 -1.421875 \nQ 20.0625 -1.421875 12.78125 6.34375 \nQ 5.515625 14.109375 5.515625 27.296875 \nQ 5.515625 40.671875 12.859375 48.328125 \nQ 20.21875 56 33.015625 56 \nQ 37.15625 56 41.109375 55.140625 \nQ 45.0625 54.296875 48.78125 52.59375 \nz\n\" id=\"DejaVuSans-99\"/>\n     </defs>\n     <g style=\"fill:#ffffff;\" transform=\"translate(323.55625 67.832812)scale(0.1 -0.1)\">\n      <use xlink:href=\"#DejaVuSans-99\"/>\n      <use x=\"54.980469\" xlink:href=\"#DejaVuSans-104\"/>\n      <use x=\"118.359375\" xlink:href=\"#DejaVuSans-105\"/>\n     </g>\n    </g>\n    <g id=\"line2d_42\">\n     <path d=\"M 295.55625 79.010937 \nL 315.55625 79.010937 \n\" style=\"fill:none;stroke:#fdb462;stroke-linecap:square;stroke-width:2;\"/>\n    </g>\n    <g id=\"line2d_43\"/>\n    <g id=\"text_19\">\n     <!-- foldnorm -->\n     <defs>\n      <path d=\"M 45.40625 46.390625 \nL 45.40625 75.984375 \nL 54.390625 75.984375 \nL 54.390625 0 \nL 45.40625 0 \nL 45.40625 8.203125 \nQ 42.578125 3.328125 38.25 0.953125 \nQ 33.9375 -1.421875 27.875 -1.421875 \nQ 17.96875 -1.421875 11.734375 6.484375 \nQ 5.515625 14.40625 5.515625 27.296875 \nQ 5.515625 40.1875 11.734375 48.09375 \nQ 17.96875 56 27.875 56 \nQ 33.9375 56 38.25 53.625 \nQ 42.578125 51.265625 45.40625 46.390625 \nz\nM 14.796875 27.296875 \nQ 14.796875 17.390625 18.875 11.75 \nQ 22.953125 6.109375 30.078125 6.109375 \nQ 37.203125 6.109375 41.296875 11.75 \nQ 45.40625 17.390625 45.40625 27.296875 \nQ 45.40625 37.203125 41.296875 42.84375 \nQ 37.203125 48.484375 30.078125 48.484375 \nQ 22.953125 48.484375 18.875 42.84375 \nQ 14.796875 37.203125 14.796875 27.296875 \nz\n\" id=\"DejaVuSans-100\"/>\n     </defs>\n     <g style=\"fill:#ffffff;\" transform=\"translate(323.55625 82.510937)scale(0.1 -0.1)\">\n      <use xlink:href=\"#DejaVuSans-102\"/>\n      <use x=\"35.205078\" xlink:href=\"#DejaVuSans-111\"/>\n      <use x=\"96.386719\" xlink:href=\"#DejaVuSans-108\"/>\n      <use x=\"124.169922\" xlink:href=\"#DejaVuSans-100\"/>\n      <use x=\"187.646484\" xlink:href=\"#DejaVuSans-110\"/>\n      <use x=\"251.025391\" xlink:href=\"#DejaVuSans-111\"/>\n      <use x=\"312.207031\" xlink:href=\"#DejaVuSans-114\"/>\n      <use x=\"353.304688\" xlink:href=\"#DejaVuSans-109\"/>\n     </g>\n    </g>\n   </g>\n  </g>\n </g>\n <defs>\n  <clipPath id=\"p365fd58856\">\n   <rect height=\"217.44\" width=\"334.8\" x=\"42.828125\" y=\"7.2\"/>\n  </clipPath>\n </defs>\n</svg>\n",
      "image/png": "[encoded data removed]"
     },
     "metadata": {}
    }
   ],
   "source": [
    "f = Fitter(data=data.values)\n",
    "f.fit()\n",
    "f.summary()"
   ]
  },
  {
   "cell_type": "code",
   "execution_count": 110,
   "metadata": {},
   "outputs": [
    {
     "output_type": "execute_result",
     "data": {
      "text/plain": "{'halfnorm': (0.999999999437237, 3.3289457211368303)}"
     },
     "metadata": {},
     "execution_count": 110
    }
   ],
   "source": [
    "f.get_best(method='sumsquare_error')"
   ]
  },
  {
   "cell_type": "code",
   "execution_count": 95,
   "metadata": {},
   "outputs": [
    {
     "output_type": "execute_result",
     "data": {
      "text/plain": "{'rayleigh': (-2.0946774390877483, 3.442789771163416)}"
     },
     "metadata": {},
     "execution_count": 95
    }
   ],
   "source": [
    "f.get_best(method='kl_div')"
   ]
  },
  {
   "cell_type": "code",
   "execution_count": 133,
   "metadata": {},
   "outputs": [
    {
     "output_type": "execute_result",
     "data": {
      "text/plain": "{'uniform': (1.0, 519.0)}"
     },
     "metadata": {},
     "execution_count": 133
    }
   ],
   "source": [
    "f.get_best(method='aic')"
   ]
  },
  {
   "cell_type": "code",
   "execution_count": 134,
   "metadata": {},
   "outputs": [
    {
     "output_type": "execute_result",
     "data": {
      "text/plain": "{'halfnorm': (0.999999999437237, 3.3289457211368303)}"
     },
     "metadata": {},
     "execution_count": 134
    }
   ],
   "source": [
    "f.get_best(method='bic')"
   ]
  },
  {
   "cell_type": "code",
   "execution_count": 140,
   "metadata": {},
   "outputs": [],
   "source": [
    "distr = halfnorm(0.999999999437237, 3.3289457211368303)"
   ]
  },
  {
   "cell_type": "code",
   "execution_count": 141,
   "metadata": {},
   "outputs": [
    {
     "output_type": "execute_result",
     "data": {
      "text/plain": "0.23968085623528548"
     },
     "metadata": {},
     "execution_count": 141
    }
   ],
   "source": [
    "distr.pdf(1)"
   ]
  },
  {
   "cell_type": "code",
   "execution_count": 142,
   "metadata": {},
   "outputs": [
    {
     "output_type": "execute_result",
     "data": {
      "text/plain": "0.24032667483160475"
     },
     "metadata": {},
     "execution_count": 142
    }
   ],
   "source": [
    "c = (1-0.9999)/3.32\n",
    "halfnorm.pdf(c)/3.32"
   ]
  },
  {
   "cell_type": "code",
   "execution_count": null,
   "metadata": {},
   "outputs": [],
   "source": []
  }
 ],
 "metadata": {
  "language_info": {
   "name": "python",
   "codemirror_mode": {
    "name": "ipython",
    "version": 3
   },
   "version": "3.8.1-final"
  },
  "orig_nbformat": 2,
  "file_extension": ".py",
  "mimetype": "text/x-python",
  "name": "python",
  "npconvert_exporter": "python",
  "pygments_lexer": "ipython3",
  "version": 3,
  "kernelspec": {
   "name": "python38164bite8a6b287b6194c8d82a0d7c4f7af531c",
   "display_name": "Python 3.8.1 64-bit"
  }
 },
 "nbformat": 4,
 "nbformat_minor": 2
}